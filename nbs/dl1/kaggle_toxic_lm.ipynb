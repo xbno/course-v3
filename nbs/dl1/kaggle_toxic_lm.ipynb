{
 "cells": [
  {
   "cell_type": "markdown",
   "metadata": {},
   "source": [
    "# IMDB"
   ]
  },
  {
   "cell_type": "code",
   "execution_count": 2,
   "metadata": {},
   "outputs": [],
   "source": [
    "%reload_ext autoreload\n",
    "%autoreload 2\n",
    "%matplotlib inline"
   ]
  },
  {
   "cell_type": "code",
   "execution_count": 3,
   "metadata": {},
   "outputs": [],
   "source": [
    "from fastai.text import *"
   ]
  },
  {
   "cell_type": "markdown",
   "metadata": {},
   "source": [
    "## Preparing the data"
   ]
  },
  {
   "cell_type": "markdown",
   "metadata": {},
   "source": [
    "First let's download the dataset we are going to study. The [dataset](http://ai.stanford.edu/~amaas/data/sentiment/) has been curated by Andrew Maas et al. and contains a total of 100,000 reviews on IMDB. 25,000 of them are labelled as positive and negative for training, another 25,000 are labelled for testing (in both cases they are highly polarized). The remaning 50,000 is an additional unlabelled data (but we will find a use for it nonetheless).\n",
    "\n",
    "We'll begin with a sample we've prepared for you, so that things run quickly before going over the full dataset."
   ]
  },
  {
   "cell_type": "code",
   "execution_count": 4,
   "metadata": {},
   "outputs": [],
   "source": [
    "path = Path('/data/toxic/')"
   ]
  },
  {
   "cell_type": "markdown",
   "metadata": {},
   "source": [
    "It only contains one csv file, let's have a look at it."
   ]
  },
  {
   "cell_type": "code",
   "execution_count": 5,
   "metadata": {},
   "outputs": [
    {
     "data": {
      "text/html": [
       "<div>\n",
       "<style scoped>\n",
       "    .dataframe tbody tr th:only-of-type {\n",
       "        vertical-align: middle;\n",
       "    }\n",
       "\n",
       "    .dataframe tbody tr th {\n",
       "        vertical-align: top;\n",
       "    }\n",
       "\n",
       "    .dataframe thead th {\n",
       "        text-align: right;\n",
       "    }\n",
       "</style>\n",
       "<table border=\"1\" class=\"dataframe\">\n",
       "  <thead>\n",
       "    <tr style=\"text-align: right;\">\n",
       "      <th></th>\n",
       "      <th>Unnamed: 0</th>\n",
       "      <th>id</th>\n",
       "      <th>comment_text</th>\n",
       "      <th>toxic</th>\n",
       "      <th>severe_toxic</th>\n",
       "      <th>obscene</th>\n",
       "      <th>threat</th>\n",
       "      <th>insult</th>\n",
       "      <th>identity_hate</th>\n",
       "      <th>label</th>\n",
       "    </tr>\n",
       "  </thead>\n",
       "  <tbody>\n",
       "    <tr>\n",
       "      <th>0</th>\n",
       "      <td>0</td>\n",
       "      <td>0000997932d777bf</td>\n",
       "      <td>Explanation\\nWhy the edits made under my usern...</td>\n",
       "      <td>NaN</td>\n",
       "      <td>NaN</td>\n",
       "      <td>NaN</td>\n",
       "      <td>NaN</td>\n",
       "      <td>NaN</td>\n",
       "      <td>NaN</td>\n",
       "      <td>okay</td>\n",
       "    </tr>\n",
       "    <tr>\n",
       "      <th>1</th>\n",
       "      <td>1</td>\n",
       "      <td>000103f0d9cfb60f</td>\n",
       "      <td>D'aww! He matches this background colour I'm s...</td>\n",
       "      <td>NaN</td>\n",
       "      <td>NaN</td>\n",
       "      <td>NaN</td>\n",
       "      <td>NaN</td>\n",
       "      <td>NaN</td>\n",
       "      <td>NaN</td>\n",
       "      <td>okay</td>\n",
       "    </tr>\n",
       "    <tr>\n",
       "      <th>2</th>\n",
       "      <td>2</td>\n",
       "      <td>000113f07ec002fd</td>\n",
       "      <td>Hey man, I'm really not trying to edit war. It...</td>\n",
       "      <td>NaN</td>\n",
       "      <td>NaN</td>\n",
       "      <td>NaN</td>\n",
       "      <td>NaN</td>\n",
       "      <td>NaN</td>\n",
       "      <td>NaN</td>\n",
       "      <td>okay</td>\n",
       "    </tr>\n",
       "    <tr>\n",
       "      <th>3</th>\n",
       "      <td>3</td>\n",
       "      <td>0001b41b1c6bb37e</td>\n",
       "      <td>\"\\nMore\\nI can't make any real suggestions on ...</td>\n",
       "      <td>NaN</td>\n",
       "      <td>NaN</td>\n",
       "      <td>NaN</td>\n",
       "      <td>NaN</td>\n",
       "      <td>NaN</td>\n",
       "      <td>NaN</td>\n",
       "      <td>okay</td>\n",
       "    </tr>\n",
       "    <tr>\n",
       "      <th>4</th>\n",
       "      <td>4</td>\n",
       "      <td>0001d958c54c6e35</td>\n",
       "      <td>You, sir, are my hero. Any chance you remember...</td>\n",
       "      <td>NaN</td>\n",
       "      <td>NaN</td>\n",
       "      <td>NaN</td>\n",
       "      <td>NaN</td>\n",
       "      <td>NaN</td>\n",
       "      <td>NaN</td>\n",
       "      <td>okay</td>\n",
       "    </tr>\n",
       "  </tbody>\n",
       "</table>\n",
       "</div>"
      ],
      "text/plain": [
       "   Unnamed: 0                id  \\\n",
       "0           0  0000997932d777bf   \n",
       "1           1  000103f0d9cfb60f   \n",
       "2           2  000113f07ec002fd   \n",
       "3           3  0001b41b1c6bb37e   \n",
       "4           4  0001d958c54c6e35   \n",
       "\n",
       "                                        comment_text toxic severe_toxic  \\\n",
       "0  Explanation\\nWhy the edits made under my usern...   NaN          NaN   \n",
       "1  D'aww! He matches this background colour I'm s...   NaN          NaN   \n",
       "2  Hey man, I'm really not trying to edit war. It...   NaN          NaN   \n",
       "3  \"\\nMore\\nI can't make any real suggestions on ...   NaN          NaN   \n",
       "4  You, sir, are my hero. Any chance you remember...   NaN          NaN   \n",
       "\n",
       "  obscene threat insult identity_hate label  \n",
       "0     NaN    NaN    NaN           NaN  okay  \n",
       "1     NaN    NaN    NaN           NaN  okay  \n",
       "2     NaN    NaN    NaN           NaN  okay  \n",
       "3     NaN    NaN    NaN           NaN  okay  \n",
       "4     NaN    NaN    NaN           NaN  okay  "
      ]
     },
     "execution_count": 5,
     "metadata": {},
     "output_type": "execute_result"
    }
   ],
   "source": [
    "df = pd.read_csv(path/'small_train_labeled2.csv')\n",
    "df.head()"
   ]
  },
  {
   "cell_type": "code",
   "execution_count": 9,
   "metadata": {},
   "outputs": [
    {
     "data": {
      "text/plain": [
       "array(['COCKSUCKER BEFORE YOU PISS AROUND ON MY WORK',\n",
       "       'Hey... what is it..\\n@ | talk .\\nWhat is it... an exclusive group of some WP TALIBANS...who are good at destroying, self-appointed purist who GANG UP any one who asks them questions abt their ANTI-SOCIAL and DESTRUCTIVE (non)-contribution at WP?\\n\\nAsk Sityush to clean up his behavior than issue me nonsensical warnings...',\n",
       "       \"Bye! \\n\\nDon't look, come or think of comming back! Tosser.\",\n",
       "       \"You are gay or antisemmitian? \\n\\nArchangel WHite Tiger\\n\\nMeow! Greetingshhh!\\n\\nUh, there are two ways, why you do erased my comment about WW2, that holocaust was brutally slaying of Jews and not gays/Gypsys/Slavs/anyone...\\n\\n1 - If you are anti-semitian, than shave your head bald and go to the skinhead meetings!\\n\\n2 - If you doubt words of the Bible, that homosexuality is a deadly sin, make a pentagram tatoo on your forehead go to the satanistic masses with your gay pals!\\n\\n3 - First and last warning, you fucking gay - I won't appreciate if any more nazi shwain would write in my page! I don't wish to talk to you anymore!\\n\\nBeware of the Dark Side!\",\n",
       "       'FUCK YOUR FILTHY MOTHER IN THE ASS, DRY!',\n",
       "       \"I'm Sorry \\n\\nI'm sorry I screwed around with someones talk page.  It was very bad to do.  I know how having the templates on their talk page helps you assert your dominance over them.  I know I should bow down to the almighty administrators.  But then again, I'm going to go play outside....with your mom.   76.122.79.82\",\n",
       "       \"GET FUCKED UP. GET FUCKEEED UP.  GOT A DRINK THAT YOU CANT PUT DOWN???/ GET FUCK UP GET FUCKED UP.  I'M FUCKED UP RIGHT NOW!\",\n",
       "       'Stupid peace of shit stop deleting my stuff asshole go die and fall in a hole go to hell!',\n",
       "       '=Tony Sidaway is obviously a fistfuckee. He loves an arm up his ass.',\n",
       "       \"My Band Page's deletion. You thought I was gone. \\n\\nDeleting the comment I posted on your 'talk page' does not delete my feelings for your hasty decision to delete my page. You, sir, are still a cock-sucking douche fuck. Sit back for a second and think about what your life has become. ............ Done? That didn't take long did it? Nope. Because, as I am most certainly aware, your life is a shitstorm of sitting in front of the computer masturbating to fictional creatures. Your attempts to get rid of me are mediocre at best. You are constantly sucking the dick of failure. You don't want a personal attack, huh? Well, too bad, Fuckcock McDickerson. You've got one. From me. You can go ahead and delete my profile from wikipedia. I'll just make another one and come right back to 'Syrthiss's talk page and insult the dick off of you. How could you shatter the dreams of an innocent eighteen year old college freshman trying to make a name for his band. Does that make you happy? Fucking with people because you're an overweight, single, old man in a dead-end job. Did you spot that perhaps someone else was going to follow his dreams and you were trying to hold him back so somebody else could suffer like you? Yes you did. I don't make empty threats, so I won't be saying anything along the lines of 'i'll hurt you' or 'i'll eat the children from within your sister's womb', but I will say that you are a asshole, son-of-a-bitch, mother fucking cock sucker. So, go eat some more food and drown your sorrows you premature ejaculating, bald headed fuck.\\n\\nYou should do something nice for yourself, maybe go grab a couple of Horny Goat Weeds from your local convenience store and jack off for a little longer than three minutes tonight.\\n\\nSincerely,\\nAn Asshole That's Better Than You In Every Way.\",\n",
       "       \"Why can't you believe how fat Artie is? Did you see him on his recent appearence on the Tonight Show with Jay Leno? He looks absolutely AWFUL! If I had to put money on it, I'd say that Artie Lange is a can't miss candidate for the 2007 Dead pool!   \\n\\n  \\nKindly keep your malicious fingers off of my above comment, . Everytime you remove it, I will repost it!!!\",\n",
       "       \"All of my edits are good.  Cunts like you who revert good edits because you're too stupid to understand how to write well , and then revert other edits just because you've decided to bear a playground grudge, are the problem.  Maybe one day you'll realise the damage you did to a noble project.  201.215.187.159\",\n",
       "       'Hi! I am back again!\\nLast warning!\\nStop undoing my edits or die!',\n",
       "       \"Would you both shut up, you don't run wikipedia, especially a stupid kid.\",\n",
       "       'A pair of jew-hating weiner nazi schmucks.',\n",
       "       '\"\\n\\nSORRY PUCK BUT NO ONE EVER SAID DICK WAS NUMBER ONE!! But he is clearly listed as being \"\"second only to Batman\"\" and a \"\"master detective and martial artist\"\" and been trained in all the mentioned combat discplines. No need to mention in skills/abilities about the battles he\\'s lost and won because thats not what an encylopia is supposed to do. \\n\\nAlso, what your problem is your going by low end showings and not HIGH end showings where he\\'s proven more than a match for a meta like Slade and pinned Shiva down in one of his earliest appearences.\\n \"',\n",
       "       '\"\\n\\nUNBLOCK ME OR I\\'LL GET MY LAWYERS ON TO YOU FOR BLOCKING MY CONSTITUTIONAL RIGHT TO FREE SPEECH\"',\n",
       "       \"You should be fired, you're a moronic wimp who is too lazy to do research. It makes me sick that people like you exist in this world.\",\n",
       "       \"I think that your a Fagget get a oife and burn in Hell I hate you 'm sorry we cant have any more sex i'm running out of conndoms\",\n",
       "       \"REPLY ABOVE:\\nThat was me, loser. The UN defines Vietnam to be part of Southeast Asia. And far as I know Vietnam is part of ASEAN, and used to be part of French Indochina with Laos and all those shit countries Anyway your culture has always been more influenced by SEA than Han Chinese (as in proper Yangtze Han Chinese, not the fringe indigenous tribes in Guangzhou/Guangxi). \\n\\nJust admit that you vietnamese are all a bunch of wannabe crap people. ALL the east asian people I've spoken to thinks of Vietnam as a very integral part of SEA, and we all think you're backward, dirty and speak in a horrible swearing language. Doesn't matter what crap you spout on Wikipedia, won't change the way people in the real world think.\",\n",
       "       \"you are a stupid fuck \\n\\nand your mother's cunt stinks\",\n",
       "       'Your blatant POV pushing \\n\\nNeither of you guys has made any contribution to this Italian history article other than to shove your unhistorical unconstructive modern POV in my face.\\nThis is a HISTORY article. HISTORY.\\nHave you heard of that?\\nThis is the reason why so many people get pissed off about the pedantry and idiocy and triviality of Wikipedia.\\nJ*sus. Get a f*cking life.',\n",
       "       'Give me a permanat block raseac....!!! remember me....!!! Muslims dont you worry for these images they are trying to hurt us but they cant look these images are fake and have nothing to do with Islam or our prophet even their article is so lame wikipedia is not an authentic source its an encyclopedia for the kids which has not authenticity anyone can edit or write whatever they think...just like raeasc you can see he does not knows what Islam is and he talks about it so forget about wiki its lame they have no authenticity...i recommend they should add pissed christ in jessus article....they should...',\n",
       "       'Fuck you, block me, you faggot pussy!',\n",
       "       'Kill all niggers. \\n\\nI have hard, that others have said this.. should this be included? That racists sometimes say these.',\n",
       "       \"Burn Deck \\n\\nIf that'd guy's burn deck is like what I think it is than he is in for a blrude awakening!!! Leviathan motherfucker!!!\",\n",
       "       'u r a tw@ fuck off u gay boy.U r smelly.Fuck ur mum poopie'], dtype=object)"
      ]
     },
     "execution_count": 9,
     "metadata": {},
     "output_type": "execute_result"
    }
   ],
   "source": [
    "df[df['label'] != 'okay']['comment_text'].values"
   ]
  },
  {
   "cell_type": "markdown",
   "metadata": {},
   "source": [
    "size of the dataset and number of samples in each type of comment:"
   ]
  },
  {
   "cell_type": "code",
   "execution_count": 27,
   "metadata": {},
   "outputs": [
    {
     "data": {
      "text/plain": [
       "(159571, 8)"
      ]
     },
     "execution_count": 27,
     "metadata": {},
     "output_type": "execute_result"
    }
   ],
   "source": [
    "df.shape"
   ]
  },
  {
   "cell_type": "code",
   "execution_count": 26,
   "metadata": {},
   "outputs": [
    {
     "data": {
      "text/plain": [
       "toxic            15294\n",
       "severe_toxic      1595\n",
       "obscene           8449\n",
       "threat             478\n",
       "insult            7877\n",
       "identity_hate     1405\n",
       "dtype: int64"
      ]
     },
     "execution_count": 26,
     "metadata": {},
     "output_type": "execute_result"
    }
   ],
   "source": [
    "df.drop(['id','comment_text'],axis=1).sum()"
   ]
  },
  {
   "cell_type": "markdown",
   "metadata": {},
   "source": [
    "a few toxic comments:"
   ]
  },
  {
   "cell_type": "code",
   "execution_count": 16,
   "metadata": {},
   "outputs": [
    {
     "data": {
      "text/plain": [
       "array(['COCKSUCKER BEFORE YOU PISS AROUND ON MY WORK',\n",
       "       'Hey... what is it..\\n@ | talk .\\nWhat is it... an exclusive group of some WP TALIBANS...who are good at destroying, self-appointed purist who GANG UP any one who asks them questions abt their ANTI-SOCIAL and DESTRUCTIVE (non)-contribution at WP?\\n\\nAsk Sityush to clean up his behavior than issue me nonsensical warnings...',\n",
       "       \"Bye! \\n\\nDon't look, come or think of comming back! Tosser.\",\n",
       "       \"You are gay or antisemmitian? \\n\\nArchangel WHite Tiger\\n\\nMeow! Greetingshhh!\\n\\nUh, there are two ways, why you do erased my comment about WW2, that holocaust was brutally slaying of Jews and not gays/Gypsys/Slavs/anyone...\\n\\n1 - If you are anti-semitian, than shave your head bald and go to the skinhead meetings!\\n\\n2 - If you doubt words of the Bible, that homosexuality is a deadly sin, make a pentagram tatoo on your forehead go to the satanistic masses with your gay pals!\\n\\n3 - First and last warning, you fucking gay - I won't appreciate if any more nazi shwain would write in my page! I don't wish to talk to you anymore!\\n\\nBeware of the Dark Side!\",\n",
       "       'FUCK YOUR FILTHY MOTHER IN THE ASS, DRY!'], dtype=object)"
      ]
     },
     "execution_count": 16,
     "metadata": {},
     "output_type": "execute_result"
    }
   ],
   "source": [
    "df[df['toxic'] == 1].loc[:,'comment_text'].head().values"
   ]
  },
  {
   "cell_type": "markdown",
   "metadata": {},
   "source": [
    "a few severe toxic comments:"
   ]
  },
  {
   "cell_type": "code",
   "execution_count": 18,
   "metadata": {},
   "outputs": [
    {
     "data": {
      "text/plain": [
       "array(['COCKSUCKER BEFORE YOU PISS AROUND ON MY WORK',\n",
       "       'Stupid peace of shit stop deleting my stuff asshole go die and fall in a hole go to hell!',\n",
       "       \"you are a stupid fuck \\n\\nand your mother's cunt stinks\", 'Hi \\n\\nIm a fucking bitch.\\n\\n50.180.208.181',\n",
       "       'What a motherfucking piece of crap those fuckheads for blocking us!'], dtype=object)"
      ]
     },
     "execution_count": 18,
     "metadata": {},
     "output_type": "execute_result"
    }
   ],
   "source": [
    "df[df['severe_toxic'] == 1].loc[:,'comment_text'].head().values"
   ]
  },
  {
   "cell_type": "markdown",
   "metadata": {},
   "source": [
    "a few obscene comments:"
   ]
  },
  {
   "cell_type": "code",
   "execution_count": 17,
   "metadata": {},
   "outputs": [
    {
     "data": {
      "text/plain": [
       "array(['COCKSUCKER BEFORE YOU PISS AROUND ON MY WORK',\n",
       "       \"You are gay or antisemmitian? \\n\\nArchangel WHite Tiger\\n\\nMeow! Greetingshhh!\\n\\nUh, there are two ways, why you do erased my comment about WW2, that holocaust was brutally slaying of Jews and not gays/Gypsys/Slavs/anyone...\\n\\n1 - If you are anti-semitian, than shave your head bald and go to the skinhead meetings!\\n\\n2 - If you doubt words of the Bible, that homosexuality is a deadly sin, make a pentagram tatoo on your forehead go to the satanistic masses with your gay pals!\\n\\n3 - First and last warning, you fucking gay - I won't appreciate if any more nazi shwain would write in my page! I don't wish to talk to you anymore!\\n\\nBeware of the Dark Side!\",\n",
       "       'FUCK YOUR FILTHY MOTHER IN THE ASS, DRY!',\n",
       "       \"GET FUCKED UP. GET FUCKEEED UP.  GOT A DRINK THAT YOU CANT PUT DOWN???/ GET FUCK UP GET FUCKED UP.  I'M FUCKED UP RIGHT NOW!\",\n",
       "       'Stupid peace of shit stop deleting my stuff asshole go die and fall in a hole go to hell!'], dtype=object)"
      ]
     },
     "execution_count": 17,
     "metadata": {},
     "output_type": "execute_result"
    }
   ],
   "source": [
    "df[df['obscene'] == 1].loc[:,'comment_text'].head().values"
   ]
  },
  {
   "cell_type": "markdown",
   "metadata": {},
   "source": [
    "It contains one line per review, with the label ('negative' or 'positive'), the text and a flag to determine if it should be part of the validation set or the training set. If we ignore this flag, we can create a DataBunch containing this data in one line of code:"
   ]
  },
  {
   "cell_type": "code",
   "execution_count": 58,
   "metadata": {},
   "outputs": [],
   "source": [
    "doc(TextDataBunch.from_csv)"
   ]
  },
  {
   "cell_type": "code",
   "execution_count": 31,
   "metadata": {},
   "outputs": [
    {
     "data": {
      "text/html": [
       "<div>\n",
       "<style scoped>\n",
       "    .dataframe tbody tr th:only-of-type {\n",
       "        vertical-align: middle;\n",
       "    }\n",
       "\n",
       "    .dataframe tbody tr th {\n",
       "        vertical-align: top;\n",
       "    }\n",
       "\n",
       "    .dataframe thead th {\n",
       "        text-align: right;\n",
       "    }\n",
       "</style>\n",
       "<table border=\"1\" class=\"dataframe\">\n",
       "  <thead>\n",
       "    <tr style=\"text-align: right;\">\n",
       "      <th></th>\n",
       "      <th>id</th>\n",
       "      <th>comment_text</th>\n",
       "      <th>toxic</th>\n",
       "      <th>severe_toxic</th>\n",
       "      <th>obscene</th>\n",
       "      <th>threat</th>\n",
       "      <th>insult</th>\n",
       "      <th>identity_hate</th>\n",
       "    </tr>\n",
       "  </thead>\n",
       "  <tbody>\n",
       "    <tr>\n",
       "      <th>0</th>\n",
       "      <td>0000997932d777bf</td>\n",
       "      <td>Explanation\\nWhy the edits made under my usern...</td>\n",
       "      <td>0</td>\n",
       "      <td>0</td>\n",
       "      <td>0</td>\n",
       "      <td>0</td>\n",
       "      <td>0</td>\n",
       "      <td>0</td>\n",
       "    </tr>\n",
       "  </tbody>\n",
       "</table>\n",
       "</div>"
      ],
      "text/plain": [
       "                 id                                       comment_text  toxic  \\\n",
       "0  0000997932d777bf  Explanation\\nWhy the edits made under my usern...      0   \n",
       "\n",
       "   severe_toxic  obscene  threat  insult  identity_hate  \n",
       "0             0        0       0       0              0  "
      ]
     },
     "execution_count": 31,
     "metadata": {},
     "output_type": "execute_result"
    }
   ],
   "source": [
    "df.head(1)"
   ]
  },
  {
   "cell_type": "markdown",
   "metadata": {},
   "source": [
    "unfortunately can't figure out how to create a multi-class slassifier, so will just create a model to predict toxic comments alone. need to figure out further work with fastai `TextDataBunch` to load multi-class from multiple columns. Otherwise load in pytorch text by itself"
   ]
  },
  {
   "cell_type": "code",
   "execution_count": 91,
   "metadata": {},
   "outputs": [],
   "source": [
    "labels = ['toxic','severe_toxic','obscene','threat','insult','identity_hate']\n",
    "labels = ['toxic']#,'threat']\n",
    "data_lm = TextDataBunch.from_csv(path,'train.csv',label_cols=labels)#,classes=labels)"
   ]
  },
  {
   "cell_type": "code",
   "execution_count": 92,
   "metadata": {},
   "outputs": [
    {
     "data": {
      "text/html": [
       "<table>  <col width='90%'>  <col width='10%'>  <tr>\n",
       "    <th>text</th>\n",
       "    <th>target</th>\n",
       "  </tr>\n",
       "  <tr>\n",
       "    <th>xxbos xxmaj take that ! \\n\\n xxup in xxup the xxup ass xxup in xxup the xxup ass xxup in xxup the xxup ass xxup in xxup the xxup ass xxup in xxup the xxup ass xxup in xxup the xxup ass xxup in xxup the xxup ass xxup in xxup the xxup ass xxup in xxup the xxup ass xxup in xxup the xxup ass xxup in xxup the</th>\n",
       "    <th>1</th>\n",
       "  </tr>\n",
       "  <tr>\n",
       "    <th>xxbos xxup huge xxup faggot xxup huge xxup faggot xxup huge xxup faggot xxup huge xxup faggot xxup huge xxup faggot xxup huge xxup faggot xxup huge xxup faggot xxup huge xxup faggot xxup huge xxup faggot xxup huge xxup faggot xxup huge xxup faggot xxup huge xxup faggot xxup huge xxup faggot xxup huge xxup faggot xxup huge xxup faggot xxup huge xxup faggot xxup huge xxup faggot xxup</th>\n",
       "    <th>1</th>\n",
       "  </tr>\n",
       "  <tr>\n",
       "    <th>xxbos xxmaj you are asshole master of deletions \\n  22:18 , 17 xxmaj march 2013 ( diff | hist ) . . ( + xxunk . . xxmaj user talk : patgallacher ‎ ( xxmaj notifying author of deletion nomination for xxmaj patricia xxmaj walsh ) ( current ) \\n  22:18 , 17 xxmaj march 2013 ( diff | hist ) . . ( + xxunk . .</th>\n",
       "    <th>1</th>\n",
       "  </tr>\n",
       "  <tr>\n",
       "    <th>xxbos \" \\n  xxmaj you xxmaj people ... \\n ... xxmaj are hoping , begging and wishing for xxunk , respect a title that you did not earn , go by on your own and are not deserving of . xxmaj you did not build the xxup us , you had the xxmaj spanish xxmaj empire and it failed , not you come here by crossing the border and</th>\n",
       "    <th>0</th>\n",
       "  </tr>\n",
       "  <tr>\n",
       "    <th>xxbos \" \\n\\n  xxmaj one xxup mo ' time for the kids in the back ... \\n\\n xxup just ca n’t let go of a few items , huh ? \\n\\n xxmaj okay from the top : \\n 1 ) xxmaj my info on the xxup glaad awards and the xxup eisner xxmaj nominations came from xxmaj winick ’s website . xxup but is that ’s not good enough</th>\n",
       "    <th>0</th>\n",
       "  </tr>\n",
       "</table>\n"
      ],
      "text/plain": [
       "<IPython.core.display.HTML object>"
      ]
     },
     "metadata": {},
     "output_type": "display_data"
    }
   ],
   "source": [
    "data_lm.show_batch()"
   ]
  },
  {
   "cell_type": "code",
   "execution_count": 93,
   "metadata": {},
   "outputs": [],
   "source": [
    "data_lm.save('toxic_lm')"
   ]
  },
  {
   "cell_type": "markdown",
   "metadata": {},
   "source": [
    "Next time we launch this notebook, we can skip the cell above that took a bit of time (and that will take a lot more when you get to the full dataset) and load those results like this:"
   ]
  },
  {
   "cell_type": "code",
   "execution_count": 95,
   "metadata": {},
   "outputs": [],
   "source": [
    "data = TextDataBunch.load(path,'toxic_lm')"
   ]
  },
  {
   "cell_type": "code",
   "execution_count": 97,
   "metadata": {},
   "outputs": [
    {
     "data": {
      "text/html": [
       "<table>  <col width='90%'>  <col width='10%'>  <tr>\n",
       "    <th>text</th>\n",
       "    <th>target</th>\n",
       "  </tr>\n",
       "  <tr>\n",
       "    <th>xxbos xxmaj take that ! \\n\\n xxup in xxup the xxup ass xxup in xxup the xxup ass xxup in xxup the xxup ass xxup in xxup the xxup ass xxup in xxup the xxup ass xxup in xxup the xxup ass xxup in xxup the xxup ass xxup in xxup the xxup ass xxup in xxup the xxup ass xxup in xxup the xxup ass xxup in xxup the</th>\n",
       "    <th>1</th>\n",
       "  </tr>\n",
       "  <tr>\n",
       "    <th>xxbos \" \\n\\n xxmaj why wikipedia 's mod system does not work ;) \\n\\n http : / / www.usatoday.com / tech / columnist / xxunk / 2006 - 09 - xxunk - of - xxunk \\n\\n xxmaj techies hot on concept of ' wisdom of crowds , ' but it has some pitfalls ... \\n xxmaj posted 9 / 12 / 2006 xxunk xxup pm xxup et \\n\\n xxmaj internet</th>\n",
       "    <th>0</th>\n",
       "  </tr>\n",
       "  <tr>\n",
       "    <th>xxbos \" \\n\\n xxmaj hi xxmaj xxunk - xxmaj the most important thing in any article on a historical person , whether it is for xxmaj wikipedia or an old - fashioned encyclopedia , is accuracy . xxmaj that accuracy goes beyond just the facts and dates that are presented , and goes on to include any photographic images that are purported to be the individual in question . xxmaj</th>\n",
       "    <th>0</th>\n",
       "  </tr>\n",
       "  <tr>\n",
       "    <th>xxbos = = xxmaj please read unblock request carefully \\n\\n xxmaj this why i ask whoever read my request to read it carefully , i will address your points in order of when your address them . \\n\\n xxmaj first , your said that you will work with the editor to help make the page notable , yet that is what i was asking for throughout the entire debate before</th>\n",
       "    <th>0</th>\n",
       "  </tr>\n",
       "  <tr>\n",
       "    <th>xxbos \" \\n\\n xxup you xxup people xxup are xxup at xxup it xxup again . \\n\\n xxmaj he first started achieving major public notoriety in early 2007 , when he made complaints of harassment at xxmaj columbia xxmaj university , against students who allegedly called him a \" \" baby killer \" \" for being in the military \\n\\n xxmaj no , he first made his complaints in early</th>\n",
       "    <th>0</th>\n",
       "  </tr>\n",
       "</table>\n"
      ],
      "text/plain": [
       "<IPython.core.display.HTML object>"
      ]
     },
     "metadata": {},
     "output_type": "display_data"
    }
   ],
   "source": [
    "data.show_batch()"
   ]
  },
  {
   "cell_type": "markdown",
   "metadata": {},
   "source": [
    "### Tokenization"
   ]
  },
  {
   "cell_type": "markdown",
   "metadata": {},
   "source": [
    "The first step of processing we make texts go through is to split the raw sentences into words, or more exactly tokens. The easiest way to do this would be to split the string on spaces, but we can be smarter:\n",
    "\n",
    "- we need to take care of punctuation\n",
    "- some words are contractions of two different words, like isn't or don't\n",
    "- we may need to clean some parts of our texts, if there's HTML code for instance\n",
    "\n",
    "To see what the tokenizer had done behind the scenes, let's have a look at a few texts in a batch."
   ]
  },
  {
   "cell_type": "code",
   "execution_count": 120,
   "metadata": {},
   "outputs": [
    {
     "data": {
      "text/html": [
       "<table>  <col width='90%'>  <col width='10%'>  <tr>\n",
       "    <th>text</th>\n",
       "    <th>target</th>\n",
       "  </tr>\n",
       "  <tr>\n",
       "    <th>xxbos xxmaj take that ! \\n\\n xxup in xxup the xxup ass xxup in xxup the xxup ass xxup in xxup the xxup ass xxup in xxup the xxup ass xxup in xxup the xxup ass xxup in xxup the xxup ass xxup in xxup the xxup ass xxup in xxup the xxup ass xxup in xxup the xxup ass xxup in xxup the xxup ass xxup in xxup the</th>\n",
       "    <th>1</th>\n",
       "  </tr>\n",
       "  <tr>\n",
       "    <th>xxbos { { unblock| xxmaj oxymoron is a moron in an xxmaj oxymoron xxmaj oxymoron is a moron in an xxmaj oxymoron xxmaj oxymoron is a moron in an xxmaj oxymoron xxmaj oxymoron is a moron in an xxmaj oxymoron xxmaj oxymoron is a moron in an xxmaj oxymoron xxmaj oxymoron is a moron in an xxmaj oxymoron xxmaj oxymoron is a moron in an xxmaj oxymoron xxmaj oxymoron is</th>\n",
       "    <th>1</th>\n",
       "  </tr>\n",
       "  <tr>\n",
       "    <th>xxbos \" \\n xxmaj actually , i do n't think it 's particularly ' enlightening ' at all ! xxmaj first , the essay implies that a person may be inclined to view a number of edits as coming from ' the same person ' . i view that implication as an example of a ' straw - man argument ' : a person builds up an ( intentionally weak</th>\n",
       "    <th>0</th>\n",
       "  </tr>\n",
       "  <tr>\n",
       "    <th>xxbos \" \\n\\n  xxmaj newly xxmaj discovered xxmaj documentary xxmaj evidence xxmaj that xxmaj affects this xxmaj article 's xxmaj accuracy \\n\\n i have recently found a 1979 booklet of questions and answers with xxmaj rawat printed and distributed by xxmaj divine xxmaj light xxmaj mission , xxmaj inc. which bears heavily on some of the issues central to this article . xxmaj this document was published at least</th>\n",
       "    <th>0</th>\n",
       "  </tr>\n",
       "  <tr>\n",
       "    <th>xxbos \" \\n i did n't write the sentence about the biblical references , i merely supplied them . i do n't remember who wrote the sentence . xxmaj however , a federal circuit court , wrote , ( one of my deleted references ) : \\n\\n xxmaj the following was excerpted from xxmaj xxunk v. xxmaj law , 142 xxmaj xxunk xxunk ( 2d xxmaj cir . 1998 )</th>\n",
       "    <th>0</th>\n",
       "  </tr>\n",
       "</table>\n"
      ],
      "text/plain": [
       "<IPython.core.display.HTML object>"
      ]
     },
     "metadata": {},
     "output_type": "display_data"
    }
   ],
   "source": [
    "data = TextClasDataBunch.load(path,'toxic_lm')\n",
    "data.show_batch()"
   ]
  },
  {
   "cell_type": "code",
   "execution_count": 100,
   "metadata": {},
   "outputs": [
    {
     "data": {
      "text/plain": [
       "Text xxbos blocked . xxmaj if i was aware that the conduct i was to have undertaken was to get me permanently blocked form ever edit again i would not have done it i think a warning first would have been good , as i have seen that to be standard practice on other people have looked at who have been"
      ]
     },
     "execution_count": 100,
     "metadata": {},
     "output_type": "execute_result"
    }
   ],
   "source": [
    "data.train_ds[2][0]"
   ]
  },
  {
   "cell_type": "markdown",
   "metadata": {},
   "source": [
    "The texts are truncated at 100 tokens for more readability. We can see that it did more than just split on space and punctuation symbols: \n",
    "- the \"'s\" are grouped together in one token\n",
    "- the contractions are separated like his: \"did\", \"n't\"\n",
    "- content has been cleaned for any HTML symbol and lower cased\n",
    "- there are several special tokens (all those that begin by xx), to replace unkown tokens (see below) or to introduce different text fields (here we only have one)."
   ]
  },
  {
   "cell_type": "markdown",
   "metadata": {},
   "source": [
    "### Numericalization"
   ]
  },
  {
   "cell_type": "markdown",
   "metadata": {},
   "source": [
    "Once we have extracted tokens from our texts, we convert to integers by creating a list of all the words used. We only keep the ones that appear at list twice with a maximum vocabulary size of 60,000 (by default) and replace the ones that don't make the cut by the unknown token `UNK`.\n",
    "\n",
    "The correspondance from ids tokens is stored in the `vocab` attribute of our datasets, in a dictionary called `itos` (for int to string)."
   ]
  },
  {
   "cell_type": "code",
   "execution_count": 101,
   "metadata": {},
   "outputs": [
    {
     "data": {
      "text/plain": [
       "['xxunk',\n",
       " 'xxpad',\n",
       " 'xxbos',\n",
       " 'xxfld',\n",
       " 'xxmaj',\n",
       " 'xxup',\n",
       " 'xxrep',\n",
       " 'xxwrep',\n",
       " '.',\n",
       " 'the']"
      ]
     },
     "execution_count": 101,
     "metadata": {},
     "output_type": "execute_result"
    }
   ],
   "source": [
    "data.vocab.itos[:10]"
   ]
  },
  {
   "cell_type": "markdown",
   "metadata": {},
   "source": [
    "And if we look at what a what's in our datasets, we'll see the tokenized text as a representation:"
   ]
  },
  {
   "cell_type": "code",
   "execution_count": 102,
   "metadata": {},
   "outputs": [
    {
     "data": {
      "text/plain": [
       "Text xxbos xxmaj raking bishops \n",
       "\n",
       " xxmaj the page has good material on several tactical and strategic motifs involving bishops . xxmaj we should probably have a brief discussion of raking bishops , and single and double bishop sacrifices ."
      ]
     },
     "execution_count": 102,
     "metadata": {},
     "output_type": "execute_result"
    }
   ],
   "source": [
    "data.train_ds[0][0]"
   ]
  },
  {
   "cell_type": "markdown",
   "metadata": {},
   "source": [
    "But the underlying data is all numbers"
   ]
  },
  {
   "cell_type": "code",
   "execution_count": 110,
   "metadata": {},
   "outputs": [
    {
     "data": {
      "text/plain": [
       "'bishops'"
      ]
     },
     "execution_count": 110,
     "metadata": {},
     "output_type": "execute_result"
    }
   ],
   "source": [
    "data.vocab.itos[8123]"
   ]
  },
  {
   "cell_type": "code",
   "execution_count": 103,
   "metadata": {},
   "outputs": [
    {
     "data": {
      "text/plain": [
       "array([    2,     4, 38926,  8123,    22,     4,     9,    49,    64,   126])"
      ]
     },
     "execution_count": 103,
     "metadata": {},
     "output_type": "execute_result"
    }
   ],
   "source": [
    "data.train_ds[0][0].data[:10]"
   ]
  },
  {
   "cell_type": "markdown",
   "metadata": {},
   "source": [
    "### With the data block API"
   ]
  },
  {
   "cell_type": "markdown",
   "metadata": {},
   "source": [
    "We can use the data block API with NLP and have a lot more flexibility than what the default factory methods offer. In the previous example for instance, the data was randomly split between train and validation instead of reading the third column of the csv.\n",
    "\n",
    "With the data block API though, we have to manually call the tokenize and numericalize steps. This allows more flexibility, and if you're not using the defaults from fastai, the variaous arguments to pass will appear in the step they're revelant, so it'll be more readable."
   ]
  },
  {
   "cell_type": "code",
   "execution_count": 118,
   "metadata": {},
   "outputs": [],
   "source": [
    "data = (TextList.from_csv(path, 'small_train.csv', cols='comment_text')\n",
    "#                 .split_from_df(col=1)\n",
    "                .no_split()\n",
    "                .label_from_df(cols=[2])\n",
    "                .databunch())"
   ]
  },
  {
   "cell_type": "code",
   "execution_count": 119,
   "metadata": {},
   "outputs": [
    {
     "data": {
      "text/html": [
       "<table>  <col width='90%'>  <col width='10%'>  <tr>\n",
       "    <th>text</th>\n",
       "    <th>target</th>\n",
       "  </tr>\n",
       "  <tr>\n",
       "    <th>xxbos xxmaj xxunk , xxmaj hello xxmaj witzeman \\n\\n xxunk \\n xxmaj xxunk : ~ | xxunk xxunk xxunk xxunk xxunk xxunk xxunk • xxunk # xxunk xxunk xxunk xxunk xxunk xxunk xxunk xxunk xxunk xxunk xxunk “ xxunk ” xxunk xxunk xxunk xxunk xxunk xxunk xxunk xxunk xxunk xxunk xxunk xxunk xxunk xxunk xxunk xxunk xxunk xxunk xxunk xxunk xxunk xxunk xxunk xxunk xxunk xxunk xxunk xxunk xxunk xxunk</th>\n",
       "    <th>0</th>\n",
       "  </tr>\n",
       "  <tr>\n",
       "    <th>xxbos \" \\n\\n  xxmaj randroide xxmaj answers to \" \" xxmaj next xxmaj xxunk \" \" \\n\\n xxmaj guys , i do not see you xxunk xxunk to xxmaj wikipedia : xxmaj xxunk for mediation . \\n\\n i can not do this job because i always xxunk from \" \" xxunk \" \" xxunk xxunk - access , and following those xxunk could xxunk in new , xxunk ,</th>\n",
       "    <th>0</th>\n",
       "  </tr>\n",
       "  <tr>\n",
       "    <th>xxbos \" = = xxmaj xxunk and xxunk of personalities = = \\n xxmaj xxunk . xxmaj your input to xxmaj culture of xxmaj lithuania is xxunk . \\n xxmaj some problems of xxunk personalities or xxunk them to certain well - known xxunk systems may xxunk here . i propose a quite xxunk xxunk of it , where definition may not be xxunk with one certain word . xxmaj</th>\n",
       "    <th>0</th>\n",
       "  </tr>\n",
       "  <tr>\n",
       "    <th>xxbos \" \\n\\n xxup xxunk , you said you wanted to talk \\n\\n xxmaj at the xxunk of the lead section you have xxunk : \\n\\n \" \" xxmaj its xxunk xxunk in xxunk that the skyhook concept could be xxunk competitive with what is xxunk thought to be xxunk using a space xxunk , but the skyhook is not competitive with other rotating tether concepts . xxmaj in addition</th>\n",
       "    <th>0</th>\n",
       "  </tr>\n",
       "  <tr>\n",
       "    <th>xxbos \" \\n xxmaj fair use rationale for xxmaj image : xxmaj wonju.jpg \\n\\n xxmaj thanks for xxunk xxmaj image : xxmaj wonju.jpg . i notice the image page xxunk that the image is being used under fair use but there is no explanation or rationale as to why its use in xxmaj wikipedia articles xxunk fair use . xxmaj in addition to the xxunk fair use template , you</th>\n",
       "    <th>0</th>\n",
       "  </tr>\n",
       "</table>\n"
      ],
      "text/plain": [
       "<IPython.core.display.HTML object>"
      ]
     },
     "metadata": {},
     "output_type": "display_data"
    }
   ],
   "source": [
    "data.show_batch()"
   ]
  },
  {
   "cell_type": "markdown",
   "metadata": {},
   "source": [
    "## Language model"
   ]
  },
  {
   "cell_type": "markdown",
   "metadata": {},
   "source": [
    "train lm on all text data available (including test.csv) so I will join both train and test together, only keeping the text. "
   ]
  },
  {
   "cell_type": "code",
   "execution_count": 123,
   "metadata": {},
   "outputs": [],
   "source": [
    "train_df = pd.read_csv('/data/toxic/train.csv')"
   ]
  },
  {
   "cell_type": "code",
   "execution_count": 130,
   "metadata": {},
   "outputs": [
    {
     "data": {
      "text/plain": [
       "(159571, 8)"
      ]
     },
     "execution_count": 130,
     "metadata": {},
     "output_type": "execute_result"
    }
   ],
   "source": [
    "train_df.shape"
   ]
  },
  {
   "cell_type": "code",
   "execution_count": 124,
   "metadata": {},
   "outputs": [],
   "source": [
    "test_df = pd.read_csv('/data/toxic/test.csv')"
   ]
  },
  {
   "cell_type": "code",
   "execution_count": 131,
   "metadata": {},
   "outputs": [
    {
     "data": {
      "text/plain": [
       "(153164, 2)"
      ]
     },
     "execution_count": 131,
     "metadata": {},
     "output_type": "execute_result"
    }
   ],
   "source": [
    "test_df.shape"
   ]
  },
  {
   "cell_type": "code",
   "execution_count": 128,
   "metadata": {},
   "outputs": [],
   "source": [
    "full_lm_text_df = pd.concat([train_df['comment_text'],test_df['comment_text']])"
   ]
  },
  {
   "cell_type": "code",
   "execution_count": 132,
   "metadata": {},
   "outputs": [
    {
     "data": {
      "text/plain": [
       "(312735,)"
      ]
     },
     "execution_count": 132,
     "metadata": {},
     "output_type": "execute_result"
    }
   ],
   "source": [
    "full_lm_text_df.shape"
   ]
  },
  {
   "cell_type": "code",
   "execution_count": 133,
   "metadata": {},
   "outputs": [
    {
     "data": {
      "text/plain": [
       "153159    . \\n i totally agree, this stuff is nothing bu...\n",
       "153160    == Throw from out field to home plate. == \\n\\n...\n",
       "153161    \" \\n\\n == Okinotorishima categories == \\n\\n I ...\n",
       "153162    \" \\n\\n == \"\"One of the founding nations of the...\n",
       "153163    \" \\n :::Stop already. Your bullshit is not wel...\n",
       "Name: comment_text, dtype: object"
      ]
     },
     "execution_count": 133,
     "metadata": {},
     "output_type": "execute_result"
    }
   ],
   "source": [
    "full_lm_text_df.tail()"
   ]
  },
  {
   "cell_type": "code",
   "execution_count": 134,
   "metadata": {},
   "outputs": [],
   "source": [
    "full_lm_text_df.to_csv('/data/toxic/full_lm.csv')"
   ]
  },
  {
   "cell_type": "code",
   "execution_count": 136,
   "metadata": {},
   "outputs": [
    {
     "name": "stderr",
     "output_type": "stream",
     "text": [
      "/opt/conda/envs/fastai/lib/python3.6/site-packages/fastai/data_block.py:475: UserWarning: You are labelling your items with CategoryList.\n",
      "Your valid set contained the folowing unknown labels, the corresponding items have been discarded.\n",
      "150519, 103439, 157917, 118711, 154274...\n",
      "  if getattr(ds, 'warn', False): warn(ds.warn)\n"
     ]
    }
   ],
   "source": [
    "labels = ['toxic']#,'threat']\n",
    "data_lm = TextDataBunch.from_csv(path,'full_lm.csv')#,classes=labels)"
   ]
  },
  {
   "cell_type": "code",
   "execution_count": 137,
   "metadata": {},
   "outputs": [],
   "source": [
    "data_lm.save('toxic_lm')"
   ]
  },
  {
   "cell_type": "markdown",
   "metadata": {},
   "source": [
    "# Load lm"
   ]
  },
  {
   "cell_type": "code",
   "execution_count": 121,
   "metadata": {},
   "outputs": [],
   "source": [
    "bs=48"
   ]
  },
  {
   "cell_type": "markdown",
   "metadata": {},
   "source": [
    "Now let's grab the full dataset for what follows."
   ]
  },
  {
   "cell_type": "code",
   "execution_count": 27,
   "metadata": {},
   "outputs": [],
   "source": [
    "path = Path('/data/toxic')"
   ]
  },
  {
   "cell_type": "code",
   "execution_count": 138,
   "metadata": {},
   "outputs": [],
   "source": [
    "data_lm = TextDataBunch.load(path,'toxic_lm')"
   ]
  },
  {
   "cell_type": "markdown",
   "metadata": {},
   "source": [
    "The reviews are in a training and test set following an imagenet structure. The only difference is that there is an `unsup` folder on top of `train` and `test` that contains the unlabelled data.\n",
    "\n",
    "We're not going to train a model that classifies the reviews from scratch. Like in computer vision, we'll use a model pretrained on a bigger dataset (a cleaned subset of wikipeia called [wikitext-103](https://einstein.ai/research/blog/the-wikitext-long-term-dependency-language-modeling-dataset)). That model has been trained to guess what the next word, its input being all the previous words. It has a recurrent structure and a hidden state that is updated each time it sees a new word. This hidden state thus contains information about the sentence up to that point.\n",
    "\n",
    "We are going to use that 'knowledge' of the English language to build our classifier, but first, like for computer vision, we need to fine-tune the pretrained model to our particular dataset. Because the English of the reviex lefts by people on IMDB isn't the same as the English of wikipedia, we'll need to adjust a little bit the parameters of our model. Plus there might be some words extremely common in that dataset that were barely present in wikipedia, and therefore might no be part of the vocabulary the model was trained on."
   ]
  },
  {
   "cell_type": "markdown",
   "metadata": {},
   "source": [
    "This is where the unlabelled data is going to be useful to us, as we can use it to fine-tune our model. Let's create our data object with the data block API (next line takes a few minutes)."
   ]
  },
  {
   "cell_type": "code",
   "execution_count": 139,
   "metadata": {},
   "outputs": [
    {
     "data": {
      "text/plain": [
       "250187"
      ]
     },
     "execution_count": 139,
     "metadata": {},
     "output_type": "execute_result"
    }
   ],
   "source": [
    "len(data_lm.train_ds)"
   ]
  },
  {
   "cell_type": "code",
   "execution_count": 141,
   "metadata": {},
   "outputs": [
    {
     "data": {
      "text/plain": [
       "48861"
      ]
     },
     "execution_count": 141,
     "metadata": {},
     "output_type": "execute_result"
    }
   ],
   "source": [
    "len(data_lm.valid_ds)"
   ]
  },
  {
   "cell_type": "markdown",
   "metadata": {},
   "source": [
    "We have to use a special kind of `TextDataBunch` for the language model, that ignores the labels (that's why we put 0 everywhere), will shuffle the texts at each epoch before concatenating them all together (only for training, we don't shuffle for the validation set) and will send batches that read that text in order with targets that are the next word in the sentence.\n",
    "\n",
    "The line before being a bit long, we want to load quickly the final ids by using the following cell."
   ]
  },
  {
   "cell_type": "code",
   "execution_count": 142,
   "metadata": {},
   "outputs": [],
   "source": [
    "bs=48\n",
    "\n",
    "data_lm = TextLMDataBunch.load(path,'toxic_lm',bs=bs)"
   ]
  },
  {
   "cell_type": "code",
   "execution_count": 144,
   "metadata": {},
   "outputs": [
    {
     "data": {
      "text/html": [
       "<table>  <col width='5%'>  <col width='95%'>  <tr>\n",
       "    <th>idx</th>\n",
       "    <th>text</th>\n",
       "  </tr>\n",
       "  <tr>\n",
       "    <th>0</th>\n",
       "    <th>xxmaj it is considered vandalism . xxmaj if you would like to experiment , use the sandbox . xxmaj thank you . - xxbos = = xxmaj on edit warring and xxup pov = = \\n\\n  xxmaj someone pointed out this ' edit war ' on my talk page , and i 've been avoiding it . xxmaj but i took a look today and it seems pretty simple</th>\n",
       "  </tr>\n",
       "  <tr>\n",
       "    <th>1</th>\n",
       "    <th>xxmaj signpost \\n { | align=\"\"center \" \" cellspacing=\"\"20 \" \" width=90 % style=\"\"background - color : transparent ; \" \" \\n | width=50 % | xxmaj arbitration xxmaj committee elections open \\n | width=50 % | xxmaj the xxmaj seigenthaler incident : xxmaj one year later \\n |- \\n | width=50 % | xxmaj wikimedia celebrates xxmaj commons milestone , plans fundraiser \\n | width=50 % | xxmaj wikipedia</th>\n",
       "  </tr>\n",
       "  <tr>\n",
       "    <th>2</th>\n",
       "    <th>or can you do it as an administrator , so that the history moves with it ? xxmaj there was a revert move xxunk , but i do n't see it anymore . i am trying to create redirects from full names and vice versa , and find missing middle names for people . xxbos : xxmaj hi ! xxmaj many thanks this would be great . i have also</th>\n",
       "  </tr>\n",
       "  <tr>\n",
       "    <th>3</th>\n",
       "    <th>will be more likely to associate the island with xxmaj europe rather than with xxmaj asia , so this was the reason for sorting the stub templates the way i did . xxmaj originally , we just used for all articles , but the material became so big that we broke it up by continent . i suspect that a stub template for xxmaj middle xxmaj east politicians will eventually</th>\n",
       "  </tr>\n",
       "  <tr>\n",
       "    <th>4</th>\n",
       "    <th>: xxunk \\n  i have tagged xxmaj image : xxunk as , because it does not provide a fair use rationale . xxmaj if you believe the image to be acceptable for fair use according to xxmaj wikipedia policy , please provide a rationale explaining as much , in accordance with the fair use rationale guideline , on the image description page . xxmaj please also consider using or</th>\n",
       "  </tr>\n",
       "</table>\n"
      ],
      "text/plain": [
       "<IPython.core.display.HTML object>"
      ]
     },
     "metadata": {},
     "output_type": "display_data"
    }
   ],
   "source": [
    "data_lm.show_batch()"
   ]
  },
  {
   "cell_type": "markdown",
   "metadata": {},
   "source": [
    "We can then put this in a learner object very easily with a model loaded with the pretrained weights. They'll be downloaded the first time you'll execute the following line and stored in `~/.fastai/models/` (or elsewhere if you specified different paths in your config file)."
   ]
  },
  {
   "cell_type": "code",
   "execution_count": 145,
   "metadata": {},
   "outputs": [],
   "source": [
    "learn = language_model_learner(data_lm, pretrained_model=URLs.WT103_1, drop_mult=0.3)"
   ]
  },
  {
   "cell_type": "code",
   "execution_count": 39,
   "metadata": {},
   "outputs": [],
   "source": [
    "# learn = learn.to_fp16()"
   ]
  },
  {
   "cell_type": "code",
   "execution_count": 146,
   "metadata": {},
   "outputs": [
    {
     "name": "stdout",
     "output_type": "stream",
     "text": [
      "LR Finder is complete, type {learner_name}.recorder.plot() to see the graph.\n"
     ]
    }
   ],
   "source": [
    "learn.lr_find()"
   ]
  },
  {
   "cell_type": "code",
   "execution_count": 147,
   "metadata": {},
   "outputs": [
    {
     "data": {
      "image/png": "[encoded data removed]",
      "text/plain": [
       "<Figure size 432x288 with 1 Axes>"
      ]
     },
     "metadata": {
      "needs_background": "light"
     },
     "output_type": "display_data"
    }
   ],
   "source": [
    "learn.recorder.plot(skip_end=15)"
   ]
  },
  {
   "cell_type": "code",
   "execution_count": 148,
   "metadata": {},
   "outputs": [
    {
     "data": {
      "text/html": [
       "Total time: 49:10 <p><table style='width:300px; margin-bottom:10px'>\n",
       "  <tr>\n",
       "    <th>epoch</th>\n",
       "    <th>train_loss</th>\n",
       "    <th>valid_loss</th>\n",
       "    <th>accuracy</th>\n",
       "  </tr>\n",
       "  <tr>\n",
       "    <th>1</th>\n",
       "    <th>4.073876</th>\n",
       "    <th>3.899197</th>\n",
       "    <th>0.324654</th>\n",
       "  </tr>\n",
       "</table>\n"
      ],
      "text/plain": [
       "<IPython.core.display.HTML object>"
      ]
     },
     "metadata": {},
     "output_type": "display_data"
    }
   ],
   "source": [
    "learn.fit_one_cycle(1, 1e-2, moms=(0.8,0.7))"
   ]
  },
  {
   "cell_type": "code",
   "execution_count": 149,
   "metadata": {},
   "outputs": [],
   "source": [
    "learn.save('toxic_lm_fit_head')"
   ]
  },
  {
   "cell_type": "code",
   "execution_count": 150,
   "metadata": {},
   "outputs": [
    {
     "data": {
      "text/plain": [
       "LanguageLearner(data=TextLMDataBunch;\n",
       "\n",
       "Train: LabelList\n",
       "y: LMLabel (250187 items)\n",
       "[Category 0, Category 0, Category 0, Category 0, Category 0]...\n",
       "Path: /data/toxic\n",
       "x: LMTextList (250187 items)\n",
       "[Text xxbos \" \n",
       "\n",
       "  = = xxmaj racist = = \n",
       "\n",
       "  xxmaj this video game is n't just \" \" pornographic \" \" it 's racist and depicts xxunk rape . \n",
       "\n",
       "  xxmaj also , the word \" \" xxunk \" \" should be xxunk , and should really be changed to \" \" woman \" \" . \", Text xxbos : xxmaj please do not add nonsense to xxmaj wikipedia . xxmaj it is considered vandalism . xxmaj if you would like to experiment , use the sandbox . xxmaj thank you . -, Text xxbos = = xxmaj on edit warring and xxup pov = = \n",
       "\n",
       "  xxmaj someone pointed out this ' edit war ' on my talk page , and i 've been avoiding it . xxmaj but i took a look today and it seems pretty simple , really . xxmaj in certain areas , urban exploration is lumped with xxunk and breaking and entering , thus making it illegal . xxmaj in other areas , it is , what i suppose amounts to , de facto legal , as nobody is being arrested for it , though there probably are n't laws specifically allowing it . xxmaj so ... say something like that in the article . xxmaj all you need is a couple of sentences , with a few citations , that says exactly what i just said . xxmaj some areas consider it illegal and lump it together with xxrep 4 . xxmaj other areas do n't have any laws xxrep 4 . xxmaj really , of all the edit wars we have going on in the project , this one is pretty weak - ass . xxmaj work out the differences here and i 'll be more than happy to lift the protection and we can all move on . xxmaj cheers ., Text xxbos = = xxunk = = \n",
       "\n",
       "  i do n't know if anyone is interested in adding more examples , but i know xxup 3d - drafting software xxunk has a xxunk - like interface as of the 2009 version ., Text xxbos xxmaj how about you block me from editing everything , with the exception of this page .]...\n",
       "Path: /data/toxic;\n",
       "\n",
       "Valid: LabelList\n",
       "y: LMLabel (48861 items)\n",
       "[Category 0, Category 0, Category 0, Category 0, Category 0]...\n",
       "Path: /data/toxic\n",
       "x: LMTextList (48861 items)\n",
       "[Text xxbos \" \n",
       "\n",
       "  i 'm going to have to pick up the xxunk instead and hand it over to you , xxmaj george . xxmaj if this was a personal friend of yours you have no business editing the article as there is a conflict of interest which should have been fully disclosed from the get go . i 'm disappointed . ( ( talk ) ✄ ✄ ✄ xxup tab \", Text xxbos \" : : xxmaj crum375 : what complete rubbish : xxmaj why the hell should i do what anyone with a mouse and the ability to click on the history page can do ? xxmaj for someone who ca n't be bothered reading my contributions .. xxmaj that request was completely and utterly out of line and just another diversion from ever answering a straight question . xxmaj how about you lot adhering to the dispute avoidance policy which states xxup not xxup to xxup revert others work , and that there are more constructive additions . \n",
       "  : : xxmaj but let 's look at some diffs then ( since i guess that big often hit revert button must be getting in the way ) : this one showing xxup sv reverting my addition of a referenced definition , an addition , another one , one that was the result of the discussion and consultation of others , more of the consensus editing , to fit the policy on international english terms ( and a bunch of other edits ) , more accurate sourced lead ( reverted by xxup sv ) . xxmaj in fact all this was able to be found in the first few pages of the history .. xxmaj would you like me to explain how to use a mouse to drive a web application or can you do this for yourselves on any of the related pages ( e.g. intensive farming that i supposedly never contribute to ) since that part of your pointless request is still \" \" outstanding \" \" and i have no intention of wasting further time on doing what you yourselves can ( and should ) do . xxmaj perhaps i need to do more constructive edits ( labelled \" \" minor \" \" ) like this one eh ? \n",
       "\n",
       "  \", Text xxbos * i took this image of xxmaj st. xxmaj moritz from xxmaj xxunk da xxmaj xxunk , i think it might a good candidate to give the reader a better perspective of how xxmaj st. xxmaj moritz really looks like and its surroundings . i would substitute one of the current images with this one , but of course i am the author of this picture , so i want to validate your opinions first . xxmaj check it out here : \n",
       "  :, Text xxbos i agree . xxmaj once an xxup ip has been tainted , i do n't see the logical possibility of assuming anything other than suspicion ., Text xxbos \" \n",
       "  xxmaj um ... \n",
       " xxmaj sir / xxmaj madame , \n",
       "\n",
       " i am not simply creating a clan . xxmaj it is what it is ! i am in talks with the xxmaj lord xxmaj lyon xxmaj king of xxmaj arms currently about having my clan recognized as an \" \" official \" \" clan of xxmaj scotland . xxmaj his ( the xxmaj uk 's government ) definition of clan is this : xxup any family which is comprised of members who claim the same ancestry ! xxmaj as mine does , i will keep undoing your and others ' habitual xxunk of my entry for my xxup clan ! xxmaj thanks . \n",
       "\n",
       " \"]...\n",
       "Path: /data/toxic;\n",
       "\n",
       "Test: None, model=SequentialRNN(\n",
       "  (0): RNNCore(\n",
       "    (encoder): Embedding(60003, 400, padding_idx=1)\n",
       "    (encoder_dp): EmbeddingDropout(\n",
       "      (emb): Embedding(60003, 400, padding_idx=1)\n",
       "    )\n",
       "    (rnns): ModuleList(\n",
       "      (0): WeightDropout(\n",
       "        (module): LSTM(400, 1150, batch_first=True)\n",
       "      )\n",
       "      (1): WeightDropout(\n",
       "        (module): LSTM(1150, 1150, batch_first=True)\n",
       "      )\n",
       "      (2): WeightDropout(\n",
       "        (module): LSTM(1150, 400, batch_first=True)\n",
       "      )\n",
       "    )\n",
       "    (input_dp): RNNDropout()\n",
       "    (hidden_dps): ModuleList(\n",
       "      (0): RNNDropout()\n",
       "      (1): RNNDropout()\n",
       "      (2): RNNDropout()\n",
       "    )\n",
       "  )\n",
       "  (1): LinearDecoder(\n",
       "    (decoder): Linear(in_features=400, out_features=60003, bias=True)\n",
       "    (output_dp): RNNDropout()\n",
       "  )\n",
       "), opt_func=functools.partial(<class 'torch.optim.adam.Adam'>, betas=(0.9, 0.99)), loss_func=FlattenedLoss of CrossEntropyLoss(), metrics=[<function accuracy at 0x7fb97c8ec400>], true_wd=True, bn_wd=True, wd=0.01, train_bn=True, path=PosixPath('/data/toxic'), model_dir='models', callback_fns=[<class 'fastai.basic_train.Recorder'>], callbacks=[RNNTrainer\n",
       "learn: LanguageLearner(data=TextLMDataBunch;\n",
       "\n",
       "Train: LabelList\n",
       "y: LMLabel (250187 items)\n",
       "[Category 0, Category 0, Category 0, Category 0, Category 0]...\n",
       "Path: /data/toxic\n",
       "x: LMTextList (250187 items)\n",
       "[Text xxbos \" \n",
       "\n",
       "  = = xxmaj racist = = \n",
       "\n",
       "  xxmaj this video game is n't just \" \" pornographic \" \" it 's racist and depicts xxunk rape . \n",
       "\n",
       "  xxmaj also , the word \" \" xxunk \" \" should be xxunk , and should really be changed to \" \" woman \" \" . \", Text xxbos : xxmaj please do not add nonsense to xxmaj wikipedia . xxmaj it is considered vandalism . xxmaj if you would like to experiment , use the sandbox . xxmaj thank you . -, Text xxbos = = xxmaj on edit warring and xxup pov = = \n",
       "\n",
       "  xxmaj someone pointed out this ' edit war ' on my talk page , and i 've been avoiding it . xxmaj but i took a look today and it seems pretty simple , really . xxmaj in certain areas , urban exploration is lumped with xxunk and breaking and entering , thus making it illegal . xxmaj in other areas , it is , what i suppose amounts to , de facto legal , as nobody is being arrested for it , though there probably are n't laws specifically allowing it . xxmaj so ... say something like that in the article . xxmaj all you need is a couple of sentences , with a few citations , that says exactly what i just said . xxmaj some areas consider it illegal and lump it together with xxrep 4 . xxmaj other areas do n't have any laws xxrep 4 . xxmaj really , of all the edit wars we have going on in the project , this one is pretty weak - ass . xxmaj work out the differences here and i 'll be more than happy to lift the protection and we can all move on . xxmaj cheers ., Text xxbos = = xxunk = = \n",
       "\n",
       "  i do n't know if anyone is interested in adding more examples , but i know xxup 3d - drafting software xxunk has a xxunk - like interface as of the 2009 version ., Text xxbos xxmaj how about you block me from editing everything , with the exception of this page .]...\n",
       "Path: /data/toxic;\n",
       "\n",
       "Valid: LabelList\n",
       "y: LMLabel (48861 items)\n",
       "[Category 0, Category 0, Category 0, Category 0, Category 0]...\n",
       "Path: /data/toxic\n",
       "x: LMTextList (48861 items)\n",
       "[Text xxbos \" \n",
       "\n",
       "  i 'm going to have to pick up the xxunk instead and hand it over to you , xxmaj george . xxmaj if this was a personal friend of yours you have no business editing the article as there is a conflict of interest which should have been fully disclosed from the get go . i 'm disappointed . ( ( talk ) ✄ ✄ ✄ xxup tab \", Text xxbos \" : : xxmaj crum375 : what complete rubbish : xxmaj why the hell should i do what anyone with a mouse and the ability to click on the history page can do ? xxmaj for someone who ca n't be bothered reading my contributions .. xxmaj that request was completely and utterly out of line and just another diversion from ever answering a straight question . xxmaj how about you lot adhering to the dispute avoidance policy which states xxup not xxup to xxup revert others work , and that there are more constructive additions . \n",
       "  : : xxmaj but let 's look at some diffs then ( since i guess that big often hit revert button must be getting in the way ) : this one showing xxup sv reverting my addition of a referenced definition , an addition , another one , one that was the result of the discussion and consultation of others , more of the consensus editing , to fit the policy on international english terms ( and a bunch of other edits ) , more accurate sourced lead ( reverted by xxup sv ) . xxmaj in fact all this was able to be found in the first few pages of the history .. xxmaj would you like me to explain how to use a mouse to drive a web application or can you do this for yourselves on any of the related pages ( e.g. intensive farming that i supposedly never contribute to ) since that part of your pointless request is still \" \" outstanding \" \" and i have no intention of wasting further time on doing what you yourselves can ( and should ) do . xxmaj perhaps i need to do more constructive edits ( labelled \" \" minor \" \" ) like this one eh ? \n",
       "\n",
       "  \", Text xxbos * i took this image of xxmaj st. xxmaj moritz from xxmaj xxunk da xxmaj xxunk , i think it might a good candidate to give the reader a better perspective of how xxmaj st. xxmaj moritz really looks like and its surroundings . i would substitute one of the current images with this one , but of course i am the author of this picture , so i want to validate your opinions first . xxmaj check it out here : \n",
       "  :, Text xxbos i agree . xxmaj once an xxup ip has been tainted , i do n't see the logical possibility of assuming anything other than suspicion ., Text xxbos \" \n",
       "  xxmaj um ... \n",
       " xxmaj sir / xxmaj madame , \n",
       "\n",
       " i am not simply creating a clan . xxmaj it is what it is ! i am in talks with the xxmaj lord xxmaj lyon xxmaj king of xxmaj arms currently about having my clan recognized as an \" \" official \" \" clan of xxmaj scotland . xxmaj his ( the xxmaj uk 's government ) definition of clan is this : xxup any family which is comprised of members who claim the same ancestry ! xxmaj as mine does , i will keep undoing your and others ' habitual xxunk of my entry for my xxup clan ! xxmaj thanks . \n",
       "\n",
       " \"]...\n",
       "Path: /data/toxic;\n",
       "\n",
       "Test: None, model=SequentialRNN(\n",
       "  (0): RNNCore(\n",
       "    (encoder): Embedding(60003, 400, padding_idx=1)\n",
       "    (encoder_dp): EmbeddingDropout(\n",
       "      (emb): Embedding(60003, 400, padding_idx=1)\n",
       "    )\n",
       "    (rnns): ModuleList(\n",
       "      (0): WeightDropout(\n",
       "        (module): LSTM(400, 1150, batch_first=True)\n",
       "      )\n",
       "      (1): WeightDropout(\n",
       "        (module): LSTM(1150, 1150, batch_first=True)\n",
       "      )\n",
       "      (2): WeightDropout(\n",
       "        (module): LSTM(1150, 400, batch_first=True)\n",
       "      )\n",
       "    )\n",
       "    (input_dp): RNNDropout()\n",
       "    (hidden_dps): ModuleList(\n",
       "      (0): RNNDropout()\n",
       "      (1): RNNDropout()\n",
       "      (2): RNNDropout()\n",
       "    )\n",
       "  )\n",
       "  (1): LinearDecoder(\n",
       "    (decoder): Linear(in_features=400, out_features=60003, bias=True)\n",
       "    (output_dp): RNNDropout()\n",
       "  )\n",
       "), opt_func=functools.partial(<class 'torch.optim.adam.Adam'>, betas=(0.9, 0.99)), loss_func=FlattenedLoss of CrossEntropyLoss(), metrics=[<function accuracy at 0x7fb97c8ec400>], true_wd=True, bn_wd=True, wd=0.01, train_bn=True, path=PosixPath('/data/toxic'), model_dir='models', callback_fns=[<class 'fastai.basic_train.Recorder'>], callbacks=[...], layer_groups=[Sequential(\n",
       "  (0): WeightDropout(\n",
       "    (module): LSTM(400, 1150, batch_first=True)\n",
       "  )\n",
       "  (1): RNNDropout()\n",
       "), Sequential(\n",
       "  (0): WeightDropout(\n",
       "    (module): LSTM(1150, 1150, batch_first=True)\n",
       "  )\n",
       "  (1): RNNDropout()\n",
       "), Sequential(\n",
       "  (0): WeightDropout(\n",
       "    (module): LSTM(1150, 400, batch_first=True)\n",
       "  )\n",
       "  (1): RNNDropout()\n",
       "), Sequential(\n",
       "  (0): Embedding(60003, 400, padding_idx=1)\n",
       "  (1): EmbeddingDropout(\n",
       "    (emb): Embedding(60003, 400, padding_idx=1)\n",
       "  )\n",
       "  (2): LinearDecoder(\n",
       "    (decoder): Linear(in_features=400, out_features=60003, bias=True)\n",
       "    (output_dp): RNNDropout()\n",
       "  )\n",
       ")])\n",
       "bptt: 70\n",
       "alpha: 2.0\n",
       "beta: 1.0], layer_groups=[Sequential(\n",
       "  (0): WeightDropout(\n",
       "    (module): LSTM(400, 1150, batch_first=True)\n",
       "  )\n",
       "  (1): RNNDropout()\n",
       "), Sequential(\n",
       "  (0): WeightDropout(\n",
       "    (module): LSTM(1150, 1150, batch_first=True)\n",
       "  )\n",
       "  (1): RNNDropout()\n",
       "), Sequential(\n",
       "  (0): WeightDropout(\n",
       "    (module): LSTM(1150, 400, batch_first=True)\n",
       "  )\n",
       "  (1): RNNDropout()\n",
       "), Sequential(\n",
       "  (0): Embedding(60003, 400, padding_idx=1)\n",
       "  (1): EmbeddingDropout(\n",
       "    (emb): Embedding(60003, 400, padding_idx=1)\n",
       "  )\n",
       "  (2): LinearDecoder(\n",
       "    (decoder): Linear(in_features=400, out_features=60003, bias=True)\n",
       "    (output_dp): RNNDropout()\n",
       "  )\n",
       ")])"
      ]
     },
     "execution_count": 150,
     "metadata": {},
     "output_type": "execute_result"
    }
   ],
   "source": [
    "learn.load('toxic_lm_fit_head')"
   ]
  },
  {
   "cell_type": "markdown",
   "metadata": {},
   "source": [
    "# restart kernel due to memory errors.. reload the learn object"
   ]
  },
  {
   "cell_type": "code",
   "execution_count": 4,
   "metadata": {},
   "outputs": [],
   "source": [
    "bs=48\n",
    "\n",
    "data_lm = TextLMDataBunch.load(path,'toxic_lm',bs=bs)\n",
    "\n",
    "learn = language_model_learner(data_lm, pretrained_model=URLs.WT103_1, drop_mult=0.3)"
   ]
  },
  {
   "cell_type": "code",
   "execution_count": 6,
   "metadata": {},
   "outputs": [
    {
     "data": {
      "text/plain": [
       "LanguageLearner(data=TextLMDataBunch;\n",
       "\n",
       "Train: LabelList\n",
       "y: LMLabel (250187 items)\n",
       "[Category 0, Category 0, Category 0, Category 0, Category 0]...\n",
       "Path: /data/toxic\n",
       "x: LMTextList (250187 items)\n",
       "[Text xxbos \" \n",
       "\n",
       "  = = xxmaj racist = = \n",
       "\n",
       "  xxmaj this video game is n't just \" \" pornographic \" \" it 's racist and depicts xxunk rape . \n",
       "\n",
       "  xxmaj also , the word \" \" xxunk \" \" should be xxunk , and should really be changed to \" \" woman \" \" . \", Text xxbos : xxmaj please do not add nonsense to xxmaj wikipedia . xxmaj it is considered vandalism . xxmaj if you would like to experiment , use the sandbox . xxmaj thank you . -, Text xxbos = = xxmaj on edit warring and xxup pov = = \n",
       "\n",
       "  xxmaj someone pointed out this ' edit war ' on my talk page , and i 've been avoiding it . xxmaj but i took a look today and it seems pretty simple , really . xxmaj in certain areas , urban exploration is lumped with xxunk and breaking and entering , thus making it illegal . xxmaj in other areas , it is , what i suppose amounts to , de facto legal , as nobody is being arrested for it , though there probably are n't laws specifically allowing it . xxmaj so ... say something like that in the article . xxmaj all you need is a couple of sentences , with a few citations , that says exactly what i just said . xxmaj some areas consider it illegal and lump it together with xxrep 4 . xxmaj other areas do n't have any laws xxrep 4 . xxmaj really , of all the edit wars we have going on in the project , this one is pretty weak - ass . xxmaj work out the differences here and i 'll be more than happy to lift the protection and we can all move on . xxmaj cheers ., Text xxbos = = xxunk = = \n",
       "\n",
       "  i do n't know if anyone is interested in adding more examples , but i know xxup 3d - drafting software xxunk has a xxunk - like interface as of the 2009 version ., Text xxbos xxmaj how about you block me from editing everything , with the exception of this page .]...\n",
       "Path: /data/toxic;\n",
       "\n",
       "Valid: LabelList\n",
       "y: LMLabel (48861 items)\n",
       "[Category 0, Category 0, Category 0, Category 0, Category 0]...\n",
       "Path: /data/toxic\n",
       "x: LMTextList (48861 items)\n",
       "[Text xxbos \" \n",
       "\n",
       "  i 'm going to have to pick up the xxunk instead and hand it over to you , xxmaj george . xxmaj if this was a personal friend of yours you have no business editing the article as there is a conflict of interest which should have been fully disclosed from the get go . i 'm disappointed . ( ( talk ) ✄ ✄ ✄ xxup tab \", Text xxbos \" : : xxmaj crum375 : what complete rubbish : xxmaj why the hell should i do what anyone with a mouse and the ability to click on the history page can do ? xxmaj for someone who ca n't be bothered reading my contributions .. xxmaj that request was completely and utterly out of line and just another diversion from ever answering a straight question . xxmaj how about you lot adhering to the dispute avoidance policy which states xxup not xxup to xxup revert others work , and that there are more constructive additions . \n",
       "  : : xxmaj but let 's look at some diffs then ( since i guess that big often hit revert button must be getting in the way ) : this one showing xxup sv reverting my addition of a referenced definition , an addition , another one , one that was the result of the discussion and consultation of others , more of the consensus editing , to fit the policy on international english terms ( and a bunch of other edits ) , more accurate sourced lead ( reverted by xxup sv ) . xxmaj in fact all this was able to be found in the first few pages of the history .. xxmaj would you like me to explain how to use a mouse to drive a web application or can you do this for yourselves on any of the related pages ( e.g. intensive farming that i supposedly never contribute to ) since that part of your pointless request is still \" \" outstanding \" \" and i have no intention of wasting further time on doing what you yourselves can ( and should ) do . xxmaj perhaps i need to do more constructive edits ( labelled \" \" minor \" \" ) like this one eh ? \n",
       "\n",
       "  \", Text xxbos * i took this image of xxmaj st. xxmaj moritz from xxmaj xxunk da xxmaj xxunk , i think it might a good candidate to give the reader a better perspective of how xxmaj st. xxmaj moritz really looks like and its surroundings . i would substitute one of the current images with this one , but of course i am the author of this picture , so i want to validate your opinions first . xxmaj check it out here : \n",
       "  :, Text xxbos i agree . xxmaj once an xxup ip has been tainted , i do n't see the logical possibility of assuming anything other than suspicion ., Text xxbos \" \n",
       "  xxmaj um ... \n",
       " xxmaj sir / xxmaj madame , \n",
       "\n",
       " i am not simply creating a clan . xxmaj it is what it is ! i am in talks with the xxmaj lord xxmaj lyon xxmaj king of xxmaj arms currently about having my clan recognized as an \" \" official \" \" clan of xxmaj scotland . xxmaj his ( the xxmaj uk 's government ) definition of clan is this : xxup any family which is comprised of members who claim the same ancestry ! xxmaj as mine does , i will keep undoing your and others ' habitual xxunk of my entry for my xxup clan ! xxmaj thanks . \n",
       "\n",
       " \"]...\n",
       "Path: /data/toxic;\n",
       "\n",
       "Test: None, model=SequentialRNN(\n",
       "  (0): RNNCore(\n",
       "    (encoder): Embedding(60003, 400, padding_idx=1)\n",
       "    (encoder_dp): EmbeddingDropout(\n",
       "      (emb): Embedding(60003, 400, padding_idx=1)\n",
       "    )\n",
       "    (rnns): ModuleList(\n",
       "      (0): WeightDropout(\n",
       "        (module): LSTM(400, 1150, batch_first=True)\n",
       "      )\n",
       "      (1): WeightDropout(\n",
       "        (module): LSTM(1150, 1150, batch_first=True)\n",
       "      )\n",
       "      (2): WeightDropout(\n",
       "        (module): LSTM(1150, 400, batch_first=True)\n",
       "      )\n",
       "    )\n",
       "    (input_dp): RNNDropout()\n",
       "    (hidden_dps): ModuleList(\n",
       "      (0): RNNDropout()\n",
       "      (1): RNNDropout()\n",
       "      (2): RNNDropout()\n",
       "    )\n",
       "  )\n",
       "  (1): LinearDecoder(\n",
       "    (decoder): Linear(in_features=400, out_features=60003, bias=True)\n",
       "    (output_dp): RNNDropout()\n",
       "  )\n",
       "), opt_func=functools.partial(<class 'torch.optim.adam.Adam'>, betas=(0.9, 0.99)), loss_func=FlattenedLoss of CrossEntropyLoss(), metrics=[<function accuracy at 0x7f017ad66620>], true_wd=True, bn_wd=True, wd=0.01, train_bn=True, path=PosixPath('/data/toxic'), model_dir='models', callback_fns=[<class 'fastai.basic_train.Recorder'>], callbacks=[RNNTrainer\n",
       "learn: LanguageLearner(data=TextLMDataBunch;\n",
       "\n",
       "Train: LabelList\n",
       "y: LMLabel (250187 items)\n",
       "[Category 0, Category 0, Category 0, Category 0, Category 0]...\n",
       "Path: /data/toxic\n",
       "x: LMTextList (250187 items)\n",
       "[Text xxbos \" \n",
       "\n",
       "  = = xxmaj racist = = \n",
       "\n",
       "  xxmaj this video game is n't just \" \" pornographic \" \" it 's racist and depicts xxunk rape . \n",
       "\n",
       "  xxmaj also , the word \" \" xxunk \" \" should be xxunk , and should really be changed to \" \" woman \" \" . \", Text xxbos : xxmaj please do not add nonsense to xxmaj wikipedia . xxmaj it is considered vandalism . xxmaj if you would like to experiment , use the sandbox . xxmaj thank you . -, Text xxbos = = xxmaj on edit warring and xxup pov = = \n",
       "\n",
       "  xxmaj someone pointed out this ' edit war ' on my talk page , and i 've been avoiding it . xxmaj but i took a look today and it seems pretty simple , really . xxmaj in certain areas , urban exploration is lumped with xxunk and breaking and entering , thus making it illegal . xxmaj in other areas , it is , what i suppose amounts to , de facto legal , as nobody is being arrested for it , though there probably are n't laws specifically allowing it . xxmaj so ... say something like that in the article . xxmaj all you need is a couple of sentences , with a few citations , that says exactly what i just said . xxmaj some areas consider it illegal and lump it together with xxrep 4 . xxmaj other areas do n't have any laws xxrep 4 . xxmaj really , of all the edit wars we have going on in the project , this one is pretty weak - ass . xxmaj work out the differences here and i 'll be more than happy to lift the protection and we can all move on . xxmaj cheers ., Text xxbos = = xxunk = = \n",
       "\n",
       "  i do n't know if anyone is interested in adding more examples , but i know xxup 3d - drafting software xxunk has a xxunk - like interface as of the 2009 version ., Text xxbos xxmaj how about you block me from editing everything , with the exception of this page .]...\n",
       "Path: /data/toxic;\n",
       "\n",
       "Valid: LabelList\n",
       "y: LMLabel (48861 items)\n",
       "[Category 0, Category 0, Category 0, Category 0, Category 0]...\n",
       "Path: /data/toxic\n",
       "x: LMTextList (48861 items)\n",
       "[Text xxbos \" \n",
       "\n",
       "  i 'm going to have to pick up the xxunk instead and hand it over to you , xxmaj george . xxmaj if this was a personal friend of yours you have no business editing the article as there is a conflict of interest which should have been fully disclosed from the get go . i 'm disappointed . ( ( talk ) ✄ ✄ ✄ xxup tab \", Text xxbos \" : : xxmaj crum375 : what complete rubbish : xxmaj why the hell should i do what anyone with a mouse and the ability to click on the history page can do ? xxmaj for someone who ca n't be bothered reading my contributions .. xxmaj that request was completely and utterly out of line and just another diversion from ever answering a straight question . xxmaj how about you lot adhering to the dispute avoidance policy which states xxup not xxup to xxup revert others work , and that there are more constructive additions . \n",
       "  : : xxmaj but let 's look at some diffs then ( since i guess that big often hit revert button must be getting in the way ) : this one showing xxup sv reverting my addition of a referenced definition , an addition , another one , one that was the result of the discussion and consultation of others , more of the consensus editing , to fit the policy on international english terms ( and a bunch of other edits ) , more accurate sourced lead ( reverted by xxup sv ) . xxmaj in fact all this was able to be found in the first few pages of the history .. xxmaj would you like me to explain how to use a mouse to drive a web application or can you do this for yourselves on any of the related pages ( e.g. intensive farming that i supposedly never contribute to ) since that part of your pointless request is still \" \" outstanding \" \" and i have no intention of wasting further time on doing what you yourselves can ( and should ) do . xxmaj perhaps i need to do more constructive edits ( labelled \" \" minor \" \" ) like this one eh ? \n",
       "\n",
       "  \", Text xxbos * i took this image of xxmaj st. xxmaj moritz from xxmaj xxunk da xxmaj xxunk , i think it might a good candidate to give the reader a better perspective of how xxmaj st. xxmaj moritz really looks like and its surroundings . i would substitute one of the current images with this one , but of course i am the author of this picture , so i want to validate your opinions first . xxmaj check it out here : \n",
       "  :, Text xxbos i agree . xxmaj once an xxup ip has been tainted , i do n't see the logical possibility of assuming anything other than suspicion ., Text xxbos \" \n",
       "  xxmaj um ... \n",
       " xxmaj sir / xxmaj madame , \n",
       "\n",
       " i am not simply creating a clan . xxmaj it is what it is ! i am in talks with the xxmaj lord xxmaj lyon xxmaj king of xxmaj arms currently about having my clan recognized as an \" \" official \" \" clan of xxmaj scotland . xxmaj his ( the xxmaj uk 's government ) definition of clan is this : xxup any family which is comprised of members who claim the same ancestry ! xxmaj as mine does , i will keep undoing your and others ' habitual xxunk of my entry for my xxup clan ! xxmaj thanks . \n",
       "\n",
       " \"]...\n",
       "Path: /data/toxic;\n",
       "\n",
       "Test: None, model=SequentialRNN(\n",
       "  (0): RNNCore(\n",
       "    (encoder): Embedding(60003, 400, padding_idx=1)\n",
       "    (encoder_dp): EmbeddingDropout(\n",
       "      (emb): Embedding(60003, 400, padding_idx=1)\n",
       "    )\n",
       "    (rnns): ModuleList(\n",
       "      (0): WeightDropout(\n",
       "        (module): LSTM(400, 1150, batch_first=True)\n",
       "      )\n",
       "      (1): WeightDropout(\n",
       "        (module): LSTM(1150, 1150, batch_first=True)\n",
       "      )\n",
       "      (2): WeightDropout(\n",
       "        (module): LSTM(1150, 400, batch_first=True)\n",
       "      )\n",
       "    )\n",
       "    (input_dp): RNNDropout()\n",
       "    (hidden_dps): ModuleList(\n",
       "      (0): RNNDropout()\n",
       "      (1): RNNDropout()\n",
       "      (2): RNNDropout()\n",
       "    )\n",
       "  )\n",
       "  (1): LinearDecoder(\n",
       "    (decoder): Linear(in_features=400, out_features=60003, bias=True)\n",
       "    (output_dp): RNNDropout()\n",
       "  )\n",
       "), opt_func=functools.partial(<class 'torch.optim.adam.Adam'>, betas=(0.9, 0.99)), loss_func=FlattenedLoss of CrossEntropyLoss(), metrics=[<function accuracy at 0x7f017ad66620>], true_wd=True, bn_wd=True, wd=0.01, train_bn=True, path=PosixPath('/data/toxic'), model_dir='models', callback_fns=[<class 'fastai.basic_train.Recorder'>], callbacks=[...], layer_groups=[Sequential(\n",
       "  (0): WeightDropout(\n",
       "    (module): LSTM(400, 1150, batch_first=True)\n",
       "  )\n",
       "  (1): RNNDropout()\n",
       "), Sequential(\n",
       "  (0): WeightDropout(\n",
       "    (module): LSTM(1150, 1150, batch_first=True)\n",
       "  )\n",
       "  (1): RNNDropout()\n",
       "), Sequential(\n",
       "  (0): WeightDropout(\n",
       "    (module): LSTM(1150, 400, batch_first=True)\n",
       "  )\n",
       "  (1): RNNDropout()\n",
       "), Sequential(\n",
       "  (0): Embedding(60003, 400, padding_idx=1)\n",
       "  (1): EmbeddingDropout(\n",
       "    (emb): Embedding(60003, 400, padding_idx=1)\n",
       "  )\n",
       "  (2): LinearDecoder(\n",
       "    (decoder): Linear(in_features=400, out_features=60003, bias=True)\n",
       "    (output_dp): RNNDropout()\n",
       "  )\n",
       ")])\n",
       "bptt: 70\n",
       "alpha: 2.0\n",
       "beta: 1.0], layer_groups=[Sequential(\n",
       "  (0): WeightDropout(\n",
       "    (module): LSTM(400, 1150, batch_first=True)\n",
       "  )\n",
       "  (1): RNNDropout()\n",
       "), Sequential(\n",
       "  (0): WeightDropout(\n",
       "    (module): LSTM(1150, 1150, batch_first=True)\n",
       "  )\n",
       "  (1): RNNDropout()\n",
       "), Sequential(\n",
       "  (0): WeightDropout(\n",
       "    (module): LSTM(1150, 400, batch_first=True)\n",
       "  )\n",
       "  (1): RNNDropout()\n",
       "), Sequential(\n",
       "  (0): Embedding(60003, 400, padding_idx=1)\n",
       "  (1): EmbeddingDropout(\n",
       "    (emb): Embedding(60003, 400, padding_idx=1)\n",
       "  )\n",
       "  (2): LinearDecoder(\n",
       "    (decoder): Linear(in_features=400, out_features=60003, bias=True)\n",
       "    (output_dp): RNNDropout()\n",
       "  )\n",
       ")])"
      ]
     },
     "execution_count": 6,
     "metadata": {},
     "output_type": "execute_result"
    }
   ],
   "source": [
    "learn.load('toxic_lm_fit_head')"
   ]
  },
  {
   "cell_type": "code",
   "execution_count": 7,
   "metadata": {},
   "outputs": [],
   "source": [
    "learn.unfreeze()"
   ]
  },
  {
   "cell_type": "code",
   "execution_count": 8,
   "metadata": {},
   "outputs": [
    {
     "name": "stdout",
     "output_type": "stream",
     "text": [
      "LR Finder is complete, type {learner_name}.recorder.plot() to see the graph.\n"
     ]
    }
   ],
   "source": [
    "learn.lr_find()"
   ]
  },
  {
   "cell_type": "code",
   "execution_count": 9,
   "metadata": {},
   "outputs": [
    {
     "data": {
      "image/png": "[encoded data removed]",
      "text/plain": [
       "<Figure size 432x288 with 1 Axes>"
      ]
     },
     "metadata": {
      "needs_background": "light"
     },
     "output_type": "display_data"
    }
   ],
   "source": [
    "learn.recorder.plot(skip_end=15)"
   ]
  },
  {
   "cell_type": "code",
   "execution_count": 10,
   "metadata": {},
   "outputs": [
    {
     "data": {
      "text/html": [
       "Total time: 4:30:11 <p><table style='width:300px; margin-bottom:10px'>\n",
       "  <tr>\n",
       "    <th>epoch</th>\n",
       "    <th>train_loss</th>\n",
       "    <th>valid_loss</th>\n",
       "    <th>accuracy</th>\n",
       "  </tr>\n",
       "  <tr>\n",
       "    <th>1</th>\n",
       "    <th>3.753279</th>\n",
       "    <th>3.635272</th>\n",
       "    <th>0.357043</th>\n",
       "  </tr>\n",
       "  <tr>\n",
       "    <th>2</th>\n",
       "    <th>3.583140</th>\n",
       "    <th>3.549110</th>\n",
       "    <th>0.370405</th>\n",
       "  </tr>\n",
       "  <tr>\n",
       "    <th>3</th>\n",
       "    <th>3.497261</th>\n",
       "    <th>3.484976</th>\n",
       "    <th>0.379287</th>\n",
       "  </tr>\n",
       "  <tr>\n",
       "    <th>4</th>\n",
       "    <th>3.414970</th>\n",
       "    <th>3.444479</th>\n",
       "    <th>0.384658</th>\n",
       "  </tr>\n",
       "  <tr>\n",
       "    <th>5</th>\n",
       "    <th>3.380303</th>\n",
       "    <th>3.435067</th>\n",
       "    <th>0.385540</th>\n",
       "  </tr>\n",
       "</table>\n"
      ],
      "text/plain": [
       "<IPython.core.display.HTML object>"
      ]
     },
     "metadata": {},
     "output_type": "display_data"
    }
   ],
   "source": [
    "learn.fit_one_cycle(5, 1e-3, moms=(0.8,0.7))"
   ]
  },
  {
   "cell_type": "code",
   "execution_count": 11,
   "metadata": {},
   "outputs": [],
   "source": [
    "learn.save('toxic_lm_fit_head_finetuned')"
   ]
  },
  {
   "cell_type": "markdown",
   "metadata": {},
   "source": [
    "After overnight run, save and keep training"
   ]
  },
  {
   "cell_type": "code",
   "execution_count": 12,
   "metadata": {},
   "outputs": [
    {
     "name": "stdout",
     "output_type": "stream",
     "text": [
      "LR Finder is complete, type {learner_name}.recorder.plot() to see the graph.\n"
     ]
    }
   ],
   "source": [
    "learn.lr_find()"
   ]
  },
  {
   "cell_type": "code",
   "execution_count": 13,
   "metadata": {},
   "outputs": [
    {
     "data": {
      "image/png": "[encoded data removed]",
      "text/plain": [
       "<Figure size 432x288 with 1 Axes>"
      ]
     },
     "metadata": {
      "needs_background": "light"
     },
     "output_type": "display_data"
    }
   ],
   "source": [
    "learn.recorder.plot(skip_end=15)"
   ]
  },
  {
   "cell_type": "code",
   "execution_count": 6,
   "metadata": {},
   "outputs": [
    {
     "data": {
      "text/plain": [
       "LanguageLearner(data=TextLMDataBunch;\n",
       "\n",
       "Train: LabelList\n",
       "y: LMLabel (250187 items)\n",
       "[Category 0, Category 0, Category 0, Category 0, Category 0]...\n",
       "Path: /data/toxic\n",
       "x: LMTextList (250187 items)\n",
       "[Text xxbos \" \n",
       "\n",
       "  = = xxmaj racist = = \n",
       "\n",
       "  xxmaj this video game is n't just \" \" pornographic \" \" it 's racist and depicts xxunk rape . \n",
       "\n",
       "  xxmaj also , the word \" \" xxunk \" \" should be xxunk , and should really be changed to \" \" woman \" \" . \", Text xxbos : xxmaj please do not add nonsense to xxmaj wikipedia . xxmaj it is considered vandalism . xxmaj if you would like to experiment , use the sandbox . xxmaj thank you . -, Text xxbos = = xxmaj on edit warring and xxup pov = = \n",
       "\n",
       "  xxmaj someone pointed out this ' edit war ' on my talk page , and i 've been avoiding it . xxmaj but i took a look today and it seems pretty simple , really . xxmaj in certain areas , urban exploration is lumped with xxunk and breaking and entering , thus making it illegal . xxmaj in other areas , it is , what i suppose amounts to , de facto legal , as nobody is being arrested for it , though there probably are n't laws specifically allowing it . xxmaj so ... say something like that in the article . xxmaj all you need is a couple of sentences , with a few citations , that says exactly what i just said . xxmaj some areas consider it illegal and lump it together with xxrep 4 . xxmaj other areas do n't have any laws xxrep 4 . xxmaj really , of all the edit wars we have going on in the project , this one is pretty weak - ass . xxmaj work out the differences here and i 'll be more than happy to lift the protection and we can all move on . xxmaj cheers ., Text xxbos = = xxunk = = \n",
       "\n",
       "  i do n't know if anyone is interested in adding more examples , but i know xxup 3d - drafting software xxunk has a xxunk - like interface as of the 2009 version ., Text xxbos xxmaj how about you block me from editing everything , with the exception of this page .]...\n",
       "Path: /data/toxic;\n",
       "\n",
       "Valid: LabelList\n",
       "y: LMLabel (48861 items)\n",
       "[Category 0, Category 0, Category 0, Category 0, Category 0]...\n",
       "Path: /data/toxic\n",
       "x: LMTextList (48861 items)\n",
       "[Text xxbos \" \n",
       "\n",
       "  i 'm going to have to pick up the xxunk instead and hand it over to you , xxmaj george . xxmaj if this was a personal friend of yours you have no business editing the article as there is a conflict of interest which should have been fully disclosed from the get go . i 'm disappointed . ( ( talk ) ✄ ✄ ✄ xxup tab \", Text xxbos \" : : xxmaj crum375 : what complete rubbish : xxmaj why the hell should i do what anyone with a mouse and the ability to click on the history page can do ? xxmaj for someone who ca n't be bothered reading my contributions .. xxmaj that request was completely and utterly out of line and just another diversion from ever answering a straight question . xxmaj how about you lot adhering to the dispute avoidance policy which states xxup not xxup to xxup revert others work , and that there are more constructive additions . \n",
       "  : : xxmaj but let 's look at some diffs then ( since i guess that big often hit revert button must be getting in the way ) : this one showing xxup sv reverting my addition of a referenced definition , an addition , another one , one that was the result of the discussion and consultation of others , more of the consensus editing , to fit the policy on international english terms ( and a bunch of other edits ) , more accurate sourced lead ( reverted by xxup sv ) . xxmaj in fact all this was able to be found in the first few pages of the history .. xxmaj would you like me to explain how to use a mouse to drive a web application or can you do this for yourselves on any of the related pages ( e.g. intensive farming that i supposedly never contribute to ) since that part of your pointless request is still \" \" outstanding \" \" and i have no intention of wasting further time on doing what you yourselves can ( and should ) do . xxmaj perhaps i need to do more constructive edits ( labelled \" \" minor \" \" ) like this one eh ? \n",
       "\n",
       "  \", Text xxbos * i took this image of xxmaj st. xxmaj moritz from xxmaj xxunk da xxmaj xxunk , i think it might a good candidate to give the reader a better perspective of how xxmaj st. xxmaj moritz really looks like and its surroundings . i would substitute one of the current images with this one , but of course i am the author of this picture , so i want to validate your opinions first . xxmaj check it out here : \n",
       "  :, Text xxbos i agree . xxmaj once an xxup ip has been tainted , i do n't see the logical possibility of assuming anything other than suspicion ., Text xxbos \" \n",
       "  xxmaj um ... \n",
       " xxmaj sir / xxmaj madame , \n",
       "\n",
       " i am not simply creating a clan . xxmaj it is what it is ! i am in talks with the xxmaj lord xxmaj lyon xxmaj king of xxmaj arms currently about having my clan recognized as an \" \" official \" \" clan of xxmaj scotland . xxmaj his ( the xxmaj uk 's government ) definition of clan is this : xxup any family which is comprised of members who claim the same ancestry ! xxmaj as mine does , i will keep undoing your and others ' habitual xxunk of my entry for my xxup clan ! xxmaj thanks . \n",
       "\n",
       " \"]...\n",
       "Path: /data/toxic;\n",
       "\n",
       "Test: None, model=SequentialRNN(\n",
       "  (0): RNNCore(\n",
       "    (encoder): Embedding(60003, 400, padding_idx=1)\n",
       "    (encoder_dp): EmbeddingDropout(\n",
       "      (emb): Embedding(60003, 400, padding_idx=1)\n",
       "    )\n",
       "    (rnns): ModuleList(\n",
       "      (0): WeightDropout(\n",
       "        (module): LSTM(400, 1150, batch_first=True)\n",
       "      )\n",
       "      (1): WeightDropout(\n",
       "        (module): LSTM(1150, 1150, batch_first=True)\n",
       "      )\n",
       "      (2): WeightDropout(\n",
       "        (module): LSTM(1150, 400, batch_first=True)\n",
       "      )\n",
       "    )\n",
       "    (input_dp): RNNDropout()\n",
       "    (hidden_dps): ModuleList(\n",
       "      (0): RNNDropout()\n",
       "      (1): RNNDropout()\n",
       "      (2): RNNDropout()\n",
       "    )\n",
       "  )\n",
       "  (1): LinearDecoder(\n",
       "    (decoder): Linear(in_features=400, out_features=60003, bias=True)\n",
       "    (output_dp): RNNDropout()\n",
       "  )\n",
       "), opt_func=functools.partial(<class 'torch.optim.adam.Adam'>, betas=(0.9, 0.99)), loss_func=FlattenedLoss of CrossEntropyLoss(), metrics=[<function accuracy at 0x7fc7fd31e400>], true_wd=True, bn_wd=True, wd=0.01, train_bn=True, path=PosixPath('/data/toxic'), model_dir='models', callback_fns=[<class 'fastai.basic_train.Recorder'>], callbacks=[RNNTrainer\n",
       "learn: LanguageLearner(data=TextLMDataBunch;\n",
       "\n",
       "Train: LabelList\n",
       "y: LMLabel (250187 items)\n",
       "[Category 0, Category 0, Category 0, Category 0, Category 0]...\n",
       "Path: /data/toxic\n",
       "x: LMTextList (250187 items)\n",
       "[Text xxbos \" \n",
       "\n",
       "  = = xxmaj racist = = \n",
       "\n",
       "  xxmaj this video game is n't just \" \" pornographic \" \" it 's racist and depicts xxunk rape . \n",
       "\n",
       "  xxmaj also , the word \" \" xxunk \" \" should be xxunk , and should really be changed to \" \" woman \" \" . \", Text xxbos : xxmaj please do not add nonsense to xxmaj wikipedia . xxmaj it is considered vandalism . xxmaj if you would like to experiment , use the sandbox . xxmaj thank you . -, Text xxbos = = xxmaj on edit warring and xxup pov = = \n",
       "\n",
       "  xxmaj someone pointed out this ' edit war ' on my talk page , and i 've been avoiding it . xxmaj but i took a look today and it seems pretty simple , really . xxmaj in certain areas , urban exploration is lumped with xxunk and breaking and entering , thus making it illegal . xxmaj in other areas , it is , what i suppose amounts to , de facto legal , as nobody is being arrested for it , though there probably are n't laws specifically allowing it . xxmaj so ... say something like that in the article . xxmaj all you need is a couple of sentences , with a few citations , that says exactly what i just said . xxmaj some areas consider it illegal and lump it together with xxrep 4 . xxmaj other areas do n't have any laws xxrep 4 . xxmaj really , of all the edit wars we have going on in the project , this one is pretty weak - ass . xxmaj work out the differences here and i 'll be more than happy to lift the protection and we can all move on . xxmaj cheers ., Text xxbos = = xxunk = = \n",
       "\n",
       "  i do n't know if anyone is interested in adding more examples , but i know xxup 3d - drafting software xxunk has a xxunk - like interface as of the 2009 version ., Text xxbos xxmaj how about you block me from editing everything , with the exception of this page .]...\n",
       "Path: /data/toxic;\n",
       "\n",
       "Valid: LabelList\n",
       "y: LMLabel (48861 items)\n",
       "[Category 0, Category 0, Category 0, Category 0, Category 0]...\n",
       "Path: /data/toxic\n",
       "x: LMTextList (48861 items)\n",
       "[Text xxbos \" \n",
       "\n",
       "  i 'm going to have to pick up the xxunk instead and hand it over to you , xxmaj george . xxmaj if this was a personal friend of yours you have no business editing the article as there is a conflict of interest which should have been fully disclosed from the get go . i 'm disappointed . ( ( talk ) ✄ ✄ ✄ xxup tab \", Text xxbos \" : : xxmaj crum375 : what complete rubbish : xxmaj why the hell should i do what anyone with a mouse and the ability to click on the history page can do ? xxmaj for someone who ca n't be bothered reading my contributions .. xxmaj that request was completely and utterly out of line and just another diversion from ever answering a straight question . xxmaj how about you lot adhering to the dispute avoidance policy which states xxup not xxup to xxup revert others work , and that there are more constructive additions . \n",
       "  : : xxmaj but let 's look at some diffs then ( since i guess that big often hit revert button must be getting in the way ) : this one showing xxup sv reverting my addition of a referenced definition , an addition , another one , one that was the result of the discussion and consultation of others , more of the consensus editing , to fit the policy on international english terms ( and a bunch of other edits ) , more accurate sourced lead ( reverted by xxup sv ) . xxmaj in fact all this was able to be found in the first few pages of the history .. xxmaj would you like me to explain how to use a mouse to drive a web application or can you do this for yourselves on any of the related pages ( e.g. intensive farming that i supposedly never contribute to ) since that part of your pointless request is still \" \" outstanding \" \" and i have no intention of wasting further time on doing what you yourselves can ( and should ) do . xxmaj perhaps i need to do more constructive edits ( labelled \" \" minor \" \" ) like this one eh ? \n",
       "\n",
       "  \", Text xxbos * i took this image of xxmaj st. xxmaj moritz from xxmaj xxunk da xxmaj xxunk , i think it might a good candidate to give the reader a better perspective of how xxmaj st. xxmaj moritz really looks like and its surroundings . i would substitute one of the current images with this one , but of course i am the author of this picture , so i want to validate your opinions first . xxmaj check it out here : \n",
       "  :, Text xxbos i agree . xxmaj once an xxup ip has been tainted , i do n't see the logical possibility of assuming anything other than suspicion ., Text xxbos \" \n",
       "  xxmaj um ... \n",
       " xxmaj sir / xxmaj madame , \n",
       "\n",
       " i am not simply creating a clan . xxmaj it is what it is ! i am in talks with the xxmaj lord xxmaj lyon xxmaj king of xxmaj arms currently about having my clan recognized as an \" \" official \" \" clan of xxmaj scotland . xxmaj his ( the xxmaj uk 's government ) definition of clan is this : xxup any family which is comprised of members who claim the same ancestry ! xxmaj as mine does , i will keep undoing your and others ' habitual xxunk of my entry for my xxup clan ! xxmaj thanks . \n",
       "\n",
       " \"]...\n",
       "Path: /data/toxic;\n",
       "\n",
       "Test: None, model=SequentialRNN(\n",
       "  (0): RNNCore(\n",
       "    (encoder): Embedding(60003, 400, padding_idx=1)\n",
       "    (encoder_dp): EmbeddingDropout(\n",
       "      (emb): Embedding(60003, 400, padding_idx=1)\n",
       "    )\n",
       "    (rnns): ModuleList(\n",
       "      (0): WeightDropout(\n",
       "        (module): LSTM(400, 1150, batch_first=True)\n",
       "      )\n",
       "      (1): WeightDropout(\n",
       "        (module): LSTM(1150, 1150, batch_first=True)\n",
       "      )\n",
       "      (2): WeightDropout(\n",
       "        (module): LSTM(1150, 400, batch_first=True)\n",
       "      )\n",
       "    )\n",
       "    (input_dp): RNNDropout()\n",
       "    (hidden_dps): ModuleList(\n",
       "      (0): RNNDropout()\n",
       "      (1): RNNDropout()\n",
       "      (2): RNNDropout()\n",
       "    )\n",
       "  )\n",
       "  (1): LinearDecoder(\n",
       "    (decoder): Linear(in_features=400, out_features=60003, bias=True)\n",
       "    (output_dp): RNNDropout()\n",
       "  )\n",
       "), opt_func=functools.partial(<class 'torch.optim.adam.Adam'>, betas=(0.9, 0.99)), loss_func=FlattenedLoss of CrossEntropyLoss(), metrics=[<function accuracy at 0x7fc7fd31e400>], true_wd=True, bn_wd=True, wd=0.01, train_bn=True, path=PosixPath('/data/toxic'), model_dir='models', callback_fns=[<class 'fastai.basic_train.Recorder'>], callbacks=[...], layer_groups=[Sequential(\n",
       "  (0): WeightDropout(\n",
       "    (module): LSTM(400, 1150, batch_first=True)\n",
       "  )\n",
       "  (1): RNNDropout()\n",
       "), Sequential(\n",
       "  (0): WeightDropout(\n",
       "    (module): LSTM(1150, 1150, batch_first=True)\n",
       "  )\n",
       "  (1): RNNDropout()\n",
       "), Sequential(\n",
       "  (0): WeightDropout(\n",
       "    (module): LSTM(1150, 400, batch_first=True)\n",
       "  )\n",
       "  (1): RNNDropout()\n",
       "), Sequential(\n",
       "  (0): Embedding(60003, 400, padding_idx=1)\n",
       "  (1): EmbeddingDropout(\n",
       "    (emb): Embedding(60003, 400, padding_idx=1)\n",
       "  )\n",
       "  (2): LinearDecoder(\n",
       "    (decoder): Linear(in_features=400, out_features=60003, bias=True)\n",
       "    (output_dp): RNNDropout()\n",
       "  )\n",
       ")])\n",
       "bptt: 70\n",
       "alpha: 2.0\n",
       "beta: 1.0], layer_groups=[Sequential(\n",
       "  (0): WeightDropout(\n",
       "    (module): LSTM(400, 1150, batch_first=True)\n",
       "  )\n",
       "  (1): RNNDropout()\n",
       "), Sequential(\n",
       "  (0): WeightDropout(\n",
       "    (module): LSTM(1150, 1150, batch_first=True)\n",
       "  )\n",
       "  (1): RNNDropout()\n",
       "), Sequential(\n",
       "  (0): WeightDropout(\n",
       "    (module): LSTM(1150, 400, batch_first=True)\n",
       "  )\n",
       "  (1): RNNDropout()\n",
       "), Sequential(\n",
       "  (0): Embedding(60003, 400, padding_idx=1)\n",
       "  (1): EmbeddingDropout(\n",
       "    (emb): Embedding(60003, 400, padding_idx=1)\n",
       "  )\n",
       "  (2): LinearDecoder(\n",
       "    (decoder): Linear(in_features=400, out_features=60003, bias=True)\n",
       "    (output_dp): RNNDropout()\n",
       "  )\n",
       ")])"
      ]
     },
     "execution_count": 6,
     "metadata": {},
     "output_type": "execute_result"
    }
   ],
   "source": [
    "learn.load('toxic_lm_fit_head_finetuned')"
   ]
  },
  {
   "cell_type": "code",
   "execution_count": 7,
   "metadata": {},
   "outputs": [
    {
     "data": {
      "text/html": [
       "Total time: 4:00:10 <p><table style='width:300px; margin-bottom:10px'>\n",
       "  <tr>\n",
       "    <th>epoch</th>\n",
       "    <th>train_loss</th>\n",
       "    <th>valid_loss</th>\n",
       "    <th>accuracy</th>\n",
       "  </tr>\n",
       "  <tr>\n",
       "    <th>1</th>\n",
       "    <th>3.323418</th>\n",
       "    <th>3.435407</th>\n",
       "    <th>0.385552</th>\n",
       "  </tr>\n",
       "  <tr>\n",
       "    <th>2</th>\n",
       "    <th>3.300102</th>\n",
       "    <th>3.436674</th>\n",
       "    <th>0.385592</th>\n",
       "  </tr>\n",
       "  <tr>\n",
       "    <th>3</th>\n",
       "    <th>3.343982</th>\n",
       "    <th>3.437548</th>\n",
       "    <th>0.385712</th>\n",
       "  </tr>\n",
       "  <tr>\n",
       "    <th>4</th>\n",
       "    <th>3.301852</th>\n",
       "    <th>3.438042</th>\n",
       "    <th>0.385734</th>\n",
       "  </tr>\n",
       "  <tr>\n",
       "    <th>5</th>\n",
       "    <th>3.362690</th>\n",
       "    <th>3.438035</th>\n",
       "    <th>0.385740</th>\n",
       "  </tr>\n",
       "</table>\n"
      ],
      "text/plain": [
       "<IPython.core.display.HTML object>"
      ]
     },
     "metadata": {},
     "output_type": "display_data"
    }
   ],
   "source": [
    "learn.fit_one_cycle(5, 1e-4, moms=(0.8,0.7))"
   ]
  },
  {
   "cell_type": "code",
   "execution_count": 8,
   "metadata": {},
   "outputs": [],
   "source": [
    "learn.save('toxic_lm_fit_head_finetuned2')"
   ]
  },
  {
   "cell_type": "code",
   "execution_count": 44,
   "metadata": {},
   "outputs": [
    {
     "data": {
      "text/plain": [
       "LanguageLearner(data=TextLMDataBunch;\n",
       "\n",
       "Train: LabelList\n",
       "y: LMLabel (22500 items)\n",
       "[Category 0, Category 0, Category 0, Category 0, Category 0]...\n",
       "Path: /data/imdb\n",
       "x: LMTextList (22500 items)\n",
       "[Text xxbos xxmaj there really are no redeeming factors about this show . xxmaj to put it simply , its just terrible . xxmaj absolutely dreadful . xxmaj it 's just a dreadful \" reality \" show . xxmaj not only that , it 's dreadful fiction . \n",
       "\n",
       " xxmaj imagine this : a bunch of overly - imaginative teenagers get together one night and go \" xxmaj hey ! xxmaj let 's make a paranormal show just like \" xxmaj ghost xxmaj hunters \" and whatnot ! \" xxmaj so they grab a camera , harass local residents and film random landscapes behind a painfully \" trying - to - be - dramatic - yet - failing - xxunk \" monologue . xxmaj this show is basically a bunch of teenagers running around with a home movie camera trying to make a really bad horror documentary . xxmaj the only difference is this show actually has a budget and writers . a wasted budget and terrible writers . \n",
       "\n",
       " xxmaj oh , the problems , how do i count thee ? xxmaj well , first off , let 's talk about this from a personal level . i am not a total skeptic when it comes to the paranormal . i am willing to believe in what s paranormal and what s not , and i 'm sure there are a lot of people who feel the same . xxmaj so , if you 're going to do a show about the paranormal , you have to do a good job convincing the viewer that what they 're seeing is either paranormal or not , because the viewer can easily believe otherwise . i hate to compare , but i do n't see why not at this point . xxmaj take \" xxmaj ghost xxmaj hunters \" for example . xxmaj in \" xxmaj ghost xxmaj hunters \" you can tell that the cast is leveled with the audience . xxmaj they 're not totally skeptical , yet they 're still willing to keep the possibility of any paranormal anomalies in mind . xxmaj they have to look at something and be willing to say \" this is possible that its simply nothing \" . xxmaj and , with that in mind , they set out to try and prove themselves wrong . xxmaj they use technology and several other gadgets along with constant moderation to determine what is paranormal along with bearing the fact that what they may be monitoring could be nothing in mind . xxmaj not only are they trying to convince themselves what is real and what is not , in the process they are trying to convince you . xxmaj that element of doubt is not present in \" xxmaj paranormal xxmaj state \" . xxmaj strike one . \n",
       "\n",
       " xxmaj in \" xxmaj paranormal xxmaj state \" , the cast simply says \" there 's this spooky place , and its xxup haunted , so we 're going to find some xxup spirits ! \" xxmaj and immediately you know and saying to yourself \" xxmaj okay , convince me otherwise \" . xxmaj the cast is not professional in their interviews . xxmaj in fact , sometimes it seems like they 're just harassing local residents of these so - called \" haunted \" areas . xxmaj they have no real evidence to back up their claims besides assumptions and theories , and the best they can must up is somebody who \" claims \" they can contact the dead , with no one ever backing up who this person is and how valid they really are . xxmaj they could have easily just picked some random person off the street and said \" pretend you can contact spirits for our show \" and went at it . xxmaj in the \" xxmaj xxunk \" episode , this just happens . xxmaj without any convincing evidence towards the end of the show , they bring this sort of individual out where he does a random , painfully scripted \" reading \" of a supposed area of how something is \" haunted \" in order to convince its audience . xxmaj very , very poor effort . i feel that one of the main problems with the show is that it feels scripted . xxmaj during one of the episodes , the cast gets attacked by one of these \" paranormal anomalies \" at times in an attempt to be dramatic . xxmaj these sort of dramatic sequences would make any skeptic laugh and even those who are on the fence realize what they 're watching is just a bunch of tabloid - esquire trash . xxmaj if the show 's aim was to try and convince their audience that these \" paranormal \" events are real , they 're doing a horrifically poor job at doing so . xxmaj strike two . \n",
       "\n",
       " xxmaj however , there is always the counter . xxmaj just one last viewpoint to see if the show is actually worth something . xxmaj what if the show is n't trying to convince you that these paranormal events are real and are simply trying to entertain you with good fiction ? xxmaj it even fails on that level as well . xxmaj if the show 's creators were trying to craft fiction to entertain its audience , the writing is too poor and even on a fictional level , it fails to convince the audience that its cast members are really experiencing the unknown in all its full , horrifying glory . xxmaj the writing is simply not compelling and even , dare i say , boring . xxmaj strike three . \n",
       "\n",
       " xxmaj so what remains of this show is simply a bunch of teenagers who are too willing or too gullible to believe in the paranormal simply because its simply much more amazing than reality who set out with a camera , a bad script and bad actors to generally just make a really bad horror documentary . xxmaj that s all the show is at this point . xxmaj there is no reason to see it , not even for the entertainment factor , and there 's no reason to care about it . xxmaj to be blunt , its lame . xxmaj there are absolutely no redeeming factors about this show ., Text xxbos a moderately interesting start , some pretty scenes in sixteenth - century xxmaj japan , and a promising idea . xxmaj but the execution ? xxmaj the comparison that springs to mind after about fifteen minutes is \" xxmaj cannibal xxmaj women in the xxmaj xxunk xxmaj jungle of xxmaj death . \" xxmaj really . a specialist in \" xxmaj oriental history \" who does n't speak any xxmaj japanese , walks on xxunk without removing her shoes , and is generally dumb as celery ? xxmaj please . xxmaj this looks like a student film : the sets are risible , the acting ( except , perhaps , for the title character ) close to wooden , the plot utterly arbitrary . xxmaj at least \" xxmaj cannibal xxmaj women \" was funny ! xxmaj this is best watched with someone who knows something about xxmaj japan , just to watch disbelief repeatedly crawl across their face ., Text xxbos i kind of like xxup jag . xxmaj it do have it´s charm but lately it´s to much propaganda in it . xxmaj for an outsider ( a non xxmaj american ) the patriotic feeling can be a bit to much . \n",
       "\n",
       " i don´t like that xxmaj rabb and mackenzie goes from being lawyers ( as they were in the early parts of the xxup tv show ) to become super heros that stops wars and rescues entire continents . xxmaj its almost like watching a recruitment video from the xxup us army . \n",
       "\n",
       " i still watch the show , so it´s not that bad . xxmaj but i would prefer more episodes when xxmaj rabb and mackenzie investigates military accidents and don´t save the world in the future ., Text xxbos xxmaj there is a famous short story about a man who becomes the prey of a safari hunter who has lost interest in hunting anything except humans . xxmaj its quite good , and its been done and redone in film and xxup tv many many times . xxmaj some are notable , but this xxunk version , that injects the tired old racism themes , just flat out stinks . xxmaj leguizamo 's slapstick is almost as weak as the unfunny script . xxmaj chaplin , this guy is n't . xxmaj there must be people who find a dwarf who ca nt stop dancing funny , i mean i suppose it is funny in a pathetic freakish way , but its just not enough to carry a movie . xxmaj you have the usual xxmaj nazi xxunk or neo - xxmaj nazi whatever the heck we are supposed to think , type villain , who 's son of course is gay , xxmaj german accents ... get the picture ?, Text xxbos xxmaj this comes close to the worst movie i 've ever seen . xxmaj the writer starts you out in a way that you 'll side with xxmaj jasper ( xxmaj josh xxmaj hartnett ) . xxmaj when he did absolutely nothing wrong , xxmaj sam ( xxmaj leelee xxmaj sobiesky ) leaves him for xxmaj kelley ( xxmaj chris xxmaj klein ) , in a way that leaves you mad at xxmaj sam . xxmaj you are n't let in on what she feels , so her feelings with xxmaj kelley are n't real to you , and their relationship is phony . xxmaj it drags you in either direction , and it gets rather exhausting and annoying . xxmaj the only good thing about this movie that i saw was the cast . \n",
       "\n",
       "]...\n",
       "Path: /data/imdb;\n",
       "\n",
       "Valid: LabelList\n",
       "y: LMLabel (2500 items)\n",
       "[Category 0, Category 0, Category 0, Category 0, Category 0]...\n",
       "Path: /data/imdb\n",
       "x: LMTextList (2500 items)\n",
       "[Text xxbos xxmaj well , i 'm a huge fan and follower of xxmaj elizabeth xxmaj berkley . i bought this on xxup dvd off of ebay for my boyfriends birthday . xxmaj we sat down to watch it and it was so boring . i do n't remember laughing once . xxmaj it 's only on for about an hour and half and it seemed to take forever to end . xxmaj elizabeth is great in this though . xxmaj maybe it 's just because i 'm a big xxmaj elizabeth xxmaj berkley fan though . xxmaj if she was n't in it i would n't have watched it but every time she came on my face lit up . xxmaj unfortunately even xxmaj elizabeth could n't save this film . xxmaj just the overall story and awful comedy makes this a film you 'd rather miss than waste an hour and a half of your life . xxmaj it 's a very forgetful film ., Text xxbos holy sweet murder this is quite possibly the least funny movie i 've ever seen . you can take my word for this as truth because it 's playing on television right now . it 's really one of the most pathetic productions i 've ever seen . there is not a single redeemable aspect of this flick . it just lacks any humor whatsoever . the only good thing it possibly has going for it is that it 's so unfunny that it 's wholly unmemorable . in fact , i just sat through some ridiculous sub - plot and i ca n't really tell you what went on . the only reason i can even possibly remember having seen this movie is because it 's so absolutely humorless it will stick in my mind forever based on that alone . \n",
       "\n",
       " an absolutely must miss . if your friend wants to show it to you , shoot him and save yourself the boredom ., Text xxbos xxmaj telly xxmaj savalas put on a passable ( but no better than that ) performance as xxmaj xxunk xxmaj villa , the notorious xxmaj mexican bandit / revolutionary in this account of xxmaj villa 's raid on the town of xxmaj columbus , xxmaj new xxmaj mexico in 1916 . xxmaj villa is not really a historical figure who i 'm overly familiar with , so i wo n't say much about the historical details of the film . xxmaj as a movie , this is n't great , although it has a smattering here and there of both action and humour . xxmaj chuck xxmaj connors ' performance as xxmaj colonel xxmaj xxunk , commander of the xxup u.s. xxmaj army base near xxmaj columbus struck me as a bit over the top , and xxmaj clint xxmaj walker as xxmaj villa 's xxmaj xxunk sidekick xxmaj scotty did n't really do very much for me . xxmaj the movie is obviously a pretty low budget effort of limited technical quality . xxmaj for a movie with a runtime of only slightly over an hour and a half i have to say that this movie dragged in places , particularly in the last 20 minutes or so . xxmaj villa 's raid into the xxmaj united xxmaj states was an interesting ( if , in the overall scheme of things , not especially important ) historical xxunk , and probably deserved better treatment than this . 4 / 10, Text xxbos xxup ok , let me start off by saying this is n't a horrible movie by any means . xxmaj it 's just not good . i recall one poster saying the acting is n't campy it 's just nuanced . xxmaj no . i 've seen nuanced xxmaj japanese and xxmaj asian acting . i 'm sorry , you 're wrong . xxmaj this is camp . \n",
       "\n",
       " xxmaj the characters are totally unsympathetic , the deaths are totally random and utterly meaningless . xxmaj the writing is bad . i 'm fine with suspending disbelief , i 'm fine with not having everything handed to me in terms of plot . xxmaj but this movie has no plot . xxmaj one reviewer stated \" xxmaj this movie is set in a small town where people are going nuts over xxunk and spirals . \" xxmaj that 's not a blurb , that 's the entire freaking film . xxmaj congratulations , i 've just saved you nearly an hour and a half . xxmaj there is nothing more to it . xxmaj no character development , no plot development , no explanations , no resolution . xxmaj and not even the \" xxmaj acceptable within the realm of j - xxmaj horror \" lack of resolution . xxmaj just nothing . \n",
       "\n",
       " xxmaj in addition , the musical score is done by someone who obviously was n't actually watching the movie at the time because it 's random enough to cause xxunk . xxmaj xxunk xxunk is one thing and done well it can be brilliant ( see xxmaj dark xxmaj water ) , but here it just seems as if the score was designed to go with another movie all together . \n",
       "\n",
       " xxmaj the best example i can give is it 's as if the xxmaj japanese remade xxmaj evil xxmaj dead without any of the clever bits or good acting . xxmaj it just falls flat . xxmaj it 's j - horror without the horror ., Text xxbos xxmaj boasting the title for the sickest film ever made , xxup pink xxup flamingos is an undisputed classic . xxmaj sure , the camerawork is shaky and off - center , the story is muddled and slow - paced , and every single character in the movie is repugnant and despicable , but xxup pink xxup flamingos has a certain playful charm and brilliant satiric wit that no other movie can match . \n",
       "\n",
       " xxmaj while this film is indeed an offensive one , reading descriptions of what goes on in the movie is much worse than actually seeing it . xxmaj only xxmaj john xxmaj waters can succeed in making rape , murder , sadism , cannibalism , xxunk , and just about every other form of human debauchery known to man seem absolutely hilarious . xxmaj this movie must be seen to be believed .]...\n",
       "Path: /data/imdb;\n",
       "\n",
       "Test: None, model=SequentialRNN(\n",
       "  (0): RNNCore(\n",
       "    (encoder): Embedding(36258, 400, padding_idx=1)\n",
       "    (encoder_dp): EmbeddingDropout(\n",
       "      (emb): Embedding(36258, 400, padding_idx=1)\n",
       "    )\n",
       "    (rnns): ModuleList(\n",
       "      (0): WeightDropout(\n",
       "        (module): LSTM(400, 1150, batch_first=True)\n",
       "      )\n",
       "      (1): WeightDropout(\n",
       "        (module): LSTM(1150, 1150, batch_first=True)\n",
       "      )\n",
       "      (2): WeightDropout(\n",
       "        (module): LSTM(1150, 400, batch_first=True)\n",
       "      )\n",
       "    )\n",
       "    (input_dp): RNNDropout()\n",
       "    (hidden_dps): ModuleList(\n",
       "      (0): RNNDropout()\n",
       "      (1): RNNDropout()\n",
       "      (2): RNNDropout()\n",
       "    )\n",
       "  )\n",
       "  (1): LinearDecoder(\n",
       "    (decoder): Linear(in_features=400, out_features=36258, bias=True)\n",
       "    (output_dp): RNNDropout()\n",
       "  )\n",
       "), opt_func=functools.partial(<class 'torch.optim.adam.Adam'>, betas=(0.9, 0.99)), loss_func=FlattenedLoss of CrossEntropyLoss(), metrics=[<function accuracy at 0x7fb64ebe8620>], true_wd=True, bn_wd=True, wd=0.01, train_bn=True, path=PosixPath('/data/imdb'), model_dir='models', callback_fns=[<class 'fastai.basic_train.Recorder'>], callbacks=[RNNTrainer\n",
       "learn: LanguageLearner(data=TextLMDataBunch;\n",
       "\n",
       "Train: LabelList\n",
       "y: LMLabel (22500 items)\n",
       "[Category 0, Category 0, Category 0, Category 0, Category 0]...\n",
       "Path: /data/imdb\n",
       "x: LMTextList (22500 items)\n",
       "[Text xxbos xxmaj there really are no redeeming factors about this show . xxmaj to put it simply , its just terrible . xxmaj absolutely dreadful . xxmaj it 's just a dreadful \" reality \" show . xxmaj not only that , it 's dreadful fiction . \n",
       "\n",
       " xxmaj imagine this : a bunch of overly - imaginative teenagers get together one night and go \" xxmaj hey ! xxmaj let 's make a paranormal show just like \" xxmaj ghost xxmaj hunters \" and whatnot ! \" xxmaj so they grab a camera , harass local residents and film random landscapes behind a painfully \" trying - to - be - dramatic - yet - failing - xxunk \" monologue . xxmaj this show is basically a bunch of teenagers running around with a home movie camera trying to make a really bad horror documentary . xxmaj the only difference is this show actually has a budget and writers . a wasted budget and terrible writers . \n",
       "\n",
       " xxmaj oh , the problems , how do i count thee ? xxmaj well , first off , let 's talk about this from a personal level . i am not a total skeptic when it comes to the paranormal . i am willing to believe in what s paranormal and what s not , and i 'm sure there are a lot of people who feel the same . xxmaj so , if you 're going to do a show about the paranormal , you have to do a good job convincing the viewer that what they 're seeing is either paranormal or not , because the viewer can easily believe otherwise . i hate to compare , but i do n't see why not at this point . xxmaj take \" xxmaj ghost xxmaj hunters \" for example . xxmaj in \" xxmaj ghost xxmaj hunters \" you can tell that the cast is leveled with the audience . xxmaj they 're not totally skeptical , yet they 're still willing to keep the possibility of any paranormal anomalies in mind . xxmaj they have to look at something and be willing to say \" this is possible that its simply nothing \" . xxmaj and , with that in mind , they set out to try and prove themselves wrong . xxmaj they use technology and several other gadgets along with constant moderation to determine what is paranormal along with bearing the fact that what they may be monitoring could be nothing in mind . xxmaj not only are they trying to convince themselves what is real and what is not , in the process they are trying to convince you . xxmaj that element of doubt is not present in \" xxmaj paranormal xxmaj state \" . xxmaj strike one . \n",
       "\n",
       " xxmaj in \" xxmaj paranormal xxmaj state \" , the cast simply says \" there 's this spooky place , and its xxup haunted , so we 're going to find some xxup spirits ! \" xxmaj and immediately you know and saying to yourself \" xxmaj okay , convince me otherwise \" . xxmaj the cast is not professional in their interviews . xxmaj in fact , sometimes it seems like they 're just harassing local residents of these so - called \" haunted \" areas . xxmaj they have no real evidence to back up their claims besides assumptions and theories , and the best they can must up is somebody who \" claims \" they can contact the dead , with no one ever backing up who this person is and how valid they really are . xxmaj they could have easily just picked some random person off the street and said \" pretend you can contact spirits for our show \" and went at it . xxmaj in the \" xxmaj xxunk \" episode , this just happens . xxmaj without any convincing evidence towards the end of the show , they bring this sort of individual out where he does a random , painfully scripted \" reading \" of a supposed area of how something is \" haunted \" in order to convince its audience . xxmaj very , very poor effort . i feel that one of the main problems with the show is that it feels scripted . xxmaj during one of the episodes , the cast gets attacked by one of these \" paranormal anomalies \" at times in an attempt to be dramatic . xxmaj these sort of dramatic sequences would make any skeptic laugh and even those who are on the fence realize what they 're watching is just a bunch of tabloid - esquire trash . xxmaj if the show 's aim was to try and convince their audience that these \" paranormal \" events are real , they 're doing a horrifically poor job at doing so . xxmaj strike two . \n",
       "\n",
       " xxmaj however , there is always the counter . xxmaj just one last viewpoint to see if the show is actually worth something . xxmaj what if the show is n't trying to convince you that these paranormal events are real and are simply trying to entertain you with good fiction ? xxmaj it even fails on that level as well . xxmaj if the show 's creators were trying to craft fiction to entertain its audience , the writing is too poor and even on a fictional level , it fails to convince the audience that its cast members are really experiencing the unknown in all its full , horrifying glory . xxmaj the writing is simply not compelling and even , dare i say , boring . xxmaj strike three . \n",
       "\n",
       " xxmaj so what remains of this show is simply a bunch of teenagers who are too willing or too gullible to believe in the paranormal simply because its simply much more amazing than reality who set out with a camera , a bad script and bad actors to generally just make a really bad horror documentary . xxmaj that s all the show is at this point . xxmaj there is no reason to see it , not even for the entertainment factor , and there 's no reason to care about it . xxmaj to be blunt , its lame . xxmaj there are absolutely no redeeming factors about this show ., Text xxbos a moderately interesting start , some pretty scenes in sixteenth - century xxmaj japan , and a promising idea . xxmaj but the execution ? xxmaj the comparison that springs to mind after about fifteen minutes is \" xxmaj cannibal xxmaj women in the xxmaj xxunk xxmaj jungle of xxmaj death . \" xxmaj really . a specialist in \" xxmaj oriental history \" who does n't speak any xxmaj japanese , walks on xxunk without removing her shoes , and is generally dumb as celery ? xxmaj please . xxmaj this looks like a student film : the sets are risible , the acting ( except , perhaps , for the title character ) close to wooden , the plot utterly arbitrary . xxmaj at least \" xxmaj cannibal xxmaj women \" was funny ! xxmaj this is best watched with someone who knows something about xxmaj japan , just to watch disbelief repeatedly crawl across their face ., Text xxbos i kind of like xxup jag . xxmaj it do have it´s charm but lately it´s to much propaganda in it . xxmaj for an outsider ( a non xxmaj american ) the patriotic feeling can be a bit to much . \n",
       "\n",
       " i don´t like that xxmaj rabb and mackenzie goes from being lawyers ( as they were in the early parts of the xxup tv show ) to become super heros that stops wars and rescues entire continents . xxmaj its almost like watching a recruitment video from the xxup us army . \n",
       "\n",
       " i still watch the show , so it´s not that bad . xxmaj but i would prefer more episodes when xxmaj rabb and mackenzie investigates military accidents and don´t save the world in the future ., Text xxbos xxmaj there is a famous short story about a man who becomes the prey of a safari hunter who has lost interest in hunting anything except humans . xxmaj its quite good , and its been done and redone in film and xxup tv many many times . xxmaj some are notable , but this xxunk version , that injects the tired old racism themes , just flat out stinks . xxmaj leguizamo 's slapstick is almost as weak as the unfunny script . xxmaj chaplin , this guy is n't . xxmaj there must be people who find a dwarf who ca nt stop dancing funny , i mean i suppose it is funny in a pathetic freakish way , but its just not enough to carry a movie . xxmaj you have the usual xxmaj nazi xxunk or neo - xxmaj nazi whatever the heck we are supposed to think , type villain , who 's son of course is gay , xxmaj german accents ... get the picture ?, Text xxbos xxmaj this comes close to the worst movie i 've ever seen . xxmaj the writer starts you out in a way that you 'll side with xxmaj jasper ( xxmaj josh xxmaj hartnett ) . xxmaj when he did absolutely nothing wrong , xxmaj sam ( xxmaj leelee xxmaj sobiesky ) leaves him for xxmaj kelley ( xxmaj chris xxmaj klein ) , in a way that leaves you mad at xxmaj sam . xxmaj you are n't let in on what she feels , so her feelings with xxmaj kelley are n't real to you , and their relationship is phony . xxmaj it drags you in either direction , and it gets rather exhausting and annoying . xxmaj the only good thing about this movie that i saw was the cast . \n",
       "\n",
       "]...\n",
       "Path: /data/imdb;\n",
       "\n",
       "Valid: LabelList\n",
       "y: LMLabel (2500 items)\n",
       "[Category 0, Category 0, Category 0, Category 0, Category 0]...\n",
       "Path: /data/imdb\n",
       "x: LMTextList (2500 items)\n",
       "[Text xxbos xxmaj well , i 'm a huge fan and follower of xxmaj elizabeth xxmaj berkley . i bought this on xxup dvd off of ebay for my boyfriends birthday . xxmaj we sat down to watch it and it was so boring . i do n't remember laughing once . xxmaj it 's only on for about an hour and half and it seemed to take forever to end . xxmaj elizabeth is great in this though . xxmaj maybe it 's just because i 'm a big xxmaj elizabeth xxmaj berkley fan though . xxmaj if she was n't in it i would n't have watched it but every time she came on my face lit up . xxmaj unfortunately even xxmaj elizabeth could n't save this film . xxmaj just the overall story and awful comedy makes this a film you 'd rather miss than waste an hour and a half of your life . xxmaj it 's a very forgetful film ., Text xxbos holy sweet murder this is quite possibly the least funny movie i 've ever seen . you can take my word for this as truth because it 's playing on television right now . it 's really one of the most pathetic productions i 've ever seen . there is not a single redeemable aspect of this flick . it just lacks any humor whatsoever . the only good thing it possibly has going for it is that it 's so unfunny that it 's wholly unmemorable . in fact , i just sat through some ridiculous sub - plot and i ca n't really tell you what went on . the only reason i can even possibly remember having seen this movie is because it 's so absolutely humorless it will stick in my mind forever based on that alone . \n",
       "\n",
       " an absolutely must miss . if your friend wants to show it to you , shoot him and save yourself the boredom ., Text xxbos xxmaj telly xxmaj savalas put on a passable ( but no better than that ) performance as xxmaj xxunk xxmaj villa , the notorious xxmaj mexican bandit / revolutionary in this account of xxmaj villa 's raid on the town of xxmaj columbus , xxmaj new xxmaj mexico in 1916 . xxmaj villa is not really a historical figure who i 'm overly familiar with , so i wo n't say much about the historical details of the film . xxmaj as a movie , this is n't great , although it has a smattering here and there of both action and humour . xxmaj chuck xxmaj connors ' performance as xxmaj colonel xxmaj xxunk , commander of the xxup u.s. xxmaj army base near xxmaj columbus struck me as a bit over the top , and xxmaj clint xxmaj walker as xxmaj villa 's xxmaj xxunk sidekick xxmaj scotty did n't really do very much for me . xxmaj the movie is obviously a pretty low budget effort of limited technical quality . xxmaj for a movie with a runtime of only slightly over an hour and a half i have to say that this movie dragged in places , particularly in the last 20 minutes or so . xxmaj villa 's raid into the xxmaj united xxmaj states was an interesting ( if , in the overall scheme of things , not especially important ) historical xxunk , and probably deserved better treatment than this . 4 / 10, Text xxbos xxup ok , let me start off by saying this is n't a horrible movie by any means . xxmaj it 's just not good . i recall one poster saying the acting is n't campy it 's just nuanced . xxmaj no . i 've seen nuanced xxmaj japanese and xxmaj asian acting . i 'm sorry , you 're wrong . xxmaj this is camp . \n",
       "\n",
       " xxmaj the characters are totally unsympathetic , the deaths are totally random and utterly meaningless . xxmaj the writing is bad . i 'm fine with suspending disbelief , i 'm fine with not having everything handed to me in terms of plot . xxmaj but this movie has no plot . xxmaj one reviewer stated \" xxmaj this movie is set in a small town where people are going nuts over xxunk and spirals . \" xxmaj that 's not a blurb , that 's the entire freaking film . xxmaj congratulations , i 've just saved you nearly an hour and a half . xxmaj there is nothing more to it . xxmaj no character development , no plot development , no explanations , no resolution . xxmaj and not even the \" xxmaj acceptable within the realm of j - xxmaj horror \" lack of resolution . xxmaj just nothing . \n",
       "\n",
       " xxmaj in addition , the musical score is done by someone who obviously was n't actually watching the movie at the time because it 's random enough to cause xxunk . xxmaj xxunk xxunk is one thing and done well it can be brilliant ( see xxmaj dark xxmaj water ) , but here it just seems as if the score was designed to go with another movie all together . \n",
       "\n",
       " xxmaj the best example i can give is it 's as if the xxmaj japanese remade xxmaj evil xxmaj dead without any of the clever bits or good acting . xxmaj it just falls flat . xxmaj it 's j - horror without the horror ., Text xxbos xxmaj boasting the title for the sickest film ever made , xxup pink xxup flamingos is an undisputed classic . xxmaj sure , the camerawork is shaky and off - center , the story is muddled and slow - paced , and every single character in the movie is repugnant and despicable , but xxup pink xxup flamingos has a certain playful charm and brilliant satiric wit that no other movie can match . \n",
       "\n",
       " xxmaj while this film is indeed an offensive one , reading descriptions of what goes on in the movie is much worse than actually seeing it . xxmaj only xxmaj john xxmaj waters can succeed in making rape , murder , sadism , cannibalism , xxunk , and just about every other form of human debauchery known to man seem absolutely hilarious . xxmaj this movie must be seen to be believed .]...\n",
       "Path: /data/imdb;\n",
       "\n",
       "Test: None, model=SequentialRNN(\n",
       "  (0): RNNCore(\n",
       "    (encoder): Embedding(36258, 400, padding_idx=1)\n",
       "    (encoder_dp): EmbeddingDropout(\n",
       "      (emb): Embedding(36258, 400, padding_idx=1)\n",
       "    )\n",
       "    (rnns): ModuleList(\n",
       "      (0): WeightDropout(\n",
       "        (module): LSTM(400, 1150, batch_first=True)\n",
       "      )\n",
       "      (1): WeightDropout(\n",
       "        (module): LSTM(1150, 1150, batch_first=True)\n",
       "      )\n",
       "      (2): WeightDropout(\n",
       "        (module): LSTM(1150, 400, batch_first=True)\n",
       "      )\n",
       "    )\n",
       "    (input_dp): RNNDropout()\n",
       "    (hidden_dps): ModuleList(\n",
       "      (0): RNNDropout()\n",
       "      (1): RNNDropout()\n",
       "      (2): RNNDropout()\n",
       "    )\n",
       "  )\n",
       "  (1): LinearDecoder(\n",
       "    (decoder): Linear(in_features=400, out_features=36258, bias=True)\n",
       "    (output_dp): RNNDropout()\n",
       "  )\n",
       "), opt_func=functools.partial(<class 'torch.optim.adam.Adam'>, betas=(0.9, 0.99)), loss_func=FlattenedLoss of CrossEntropyLoss(), metrics=[<function accuracy at 0x7fb64ebe8620>], true_wd=True, bn_wd=True, wd=0.01, train_bn=True, path=PosixPath('/data/imdb'), model_dir='models', callback_fns=[<class 'fastai.basic_train.Recorder'>], callbacks=[...], layer_groups=[Sequential(\n",
       "  (0): WeightDropout(\n",
       "    (module): LSTM(400, 1150, batch_first=True)\n",
       "  )\n",
       "  (1): RNNDropout()\n",
       "), Sequential(\n",
       "  (0): WeightDropout(\n",
       "    (module): LSTM(1150, 1150, batch_first=True)\n",
       "  )\n",
       "  (1): RNNDropout()\n",
       "), Sequential(\n",
       "  (0): WeightDropout(\n",
       "    (module): LSTM(1150, 400, batch_first=True)\n",
       "  )\n",
       "  (1): RNNDropout()\n",
       "), Sequential(\n",
       "  (0): Embedding(36258, 400, padding_idx=1)\n",
       "  (1): EmbeddingDropout(\n",
       "    (emb): Embedding(36258, 400, padding_idx=1)\n",
       "  )\n",
       "  (2): LinearDecoder(\n",
       "    (decoder): Linear(in_features=400, out_features=36258, bias=True)\n",
       "    (output_dp): RNNDropout()\n",
       "  )\n",
       ")])\n",
       "bptt: 70\n",
       "alpha: 2.0\n",
       "beta: 1.0], layer_groups=[Sequential(\n",
       "  (0): WeightDropout(\n",
       "    (module): LSTM(400, 1150, batch_first=True)\n",
       "  )\n",
       "  (1): RNNDropout()\n",
       "), Sequential(\n",
       "  (0): WeightDropout(\n",
       "    (module): LSTM(1150, 1150, batch_first=True)\n",
       "  )\n",
       "  (1): RNNDropout()\n",
       "), Sequential(\n",
       "  (0): WeightDropout(\n",
       "    (module): LSTM(1150, 400, batch_first=True)\n",
       "  )\n",
       "  (1): RNNDropout()\n",
       "), Sequential(\n",
       "  (0): Embedding(36258, 400, padding_idx=1)\n",
       "  (1): EmbeddingDropout(\n",
       "    (emb): Embedding(36258, 400, padding_idx=1)\n",
       "  )\n",
       "  (2): LinearDecoder(\n",
       "    (decoder): Linear(in_features=400, out_features=36258, bias=True)\n",
       "    (output_dp): RNNDropout()\n",
       "  )\n",
       ")])"
      ]
     },
     "execution_count": 44,
     "metadata": {},
     "output_type": "execute_result"
    }
   ],
   "source": [
    "learn"
   ]
  },
  {
   "cell_type": "code",
   "execution_count": 75,
   "metadata": {},
   "outputs": [
    {
     "ename": "RuntimeError",
     "evalue": "Error(s) in loading state_dict for SequentialRNN:\n\tMissing key(s) in state_dict: \"1.layers.0.weight\", \"1.layers.0.bias\", \"1.layers.0.running_mean\", \"1.layers.0.running_var\", \"1.layers.2.weight\", \"1.layers.2.bias\", \"1.layers.4.weight\", \"1.layers.4.bias\", \"1.layers.4.running_mean\", \"1.layers.4.running_var\", \"1.layers.6.weight\", \"1.layers.6.bias\". \n\tUnexpected key(s) in state_dict: \"1.decoder.weight\", \"1.decoder.bias\". ",
     "output_type": "error",
     "traceback": [
      "\u001b[0;31m---------------------------------------------------------------------------\u001b[0m",
      "\u001b[0;31mRuntimeError\u001b[0m                              Traceback (most recent call last)",
      "\u001b[0;32m<ipython-input-75-44585e99aeed>\u001b[0m in \u001b[0;36m<module>\u001b[0;34m\u001b[0m\n\u001b[0;32m----> 1\u001b[0;31m \u001b[0mlearn\u001b[0m\u001b[0;34m.\u001b[0m\u001b[0mload\u001b[0m\u001b[0;34m(\u001b[0m\u001b[0;34m'fine_tuned'\u001b[0m\u001b[0;34m)\u001b[0m\u001b[0;34m;\u001b[0m\u001b[0;34m\u001b[0m\u001b[0;34m\u001b[0m\u001b[0m\n\u001b[0m",
      "\u001b[0;32m/opt/conda/envs/fastai/lib/python3.6/site-packages/fastai/basic_train.py\u001b[0m in \u001b[0;36mload\u001b[0;34m(self, name, device, strict, with_opt)\u001b[0m\n\u001b[1;32m    238\u001b[0m         \u001b[0mstate\u001b[0m \u001b[0;34m=\u001b[0m \u001b[0mtorch\u001b[0m\u001b[0;34m.\u001b[0m\u001b[0mload\u001b[0m\u001b[0;34m(\u001b[0m\u001b[0mself\u001b[0m\u001b[0;34m.\u001b[0m\u001b[0mpath\u001b[0m\u001b[0;34m/\u001b[0m\u001b[0mself\u001b[0m\u001b[0;34m.\u001b[0m\u001b[0mmodel_dir\u001b[0m\u001b[0;34m/\u001b[0m\u001b[0;34mf'{name}.pth'\u001b[0m\u001b[0;34m,\u001b[0m \u001b[0mmap_location\u001b[0m\u001b[0;34m=\u001b[0m\u001b[0mdevice\u001b[0m\u001b[0;34m)\u001b[0m\u001b[0;34m\u001b[0m\u001b[0;34m\u001b[0m\u001b[0m\n\u001b[1;32m    239\u001b[0m         \u001b[0;32mif\u001b[0m \u001b[0mset\u001b[0m\u001b[0;34m(\u001b[0m\u001b[0mstate\u001b[0m\u001b[0;34m.\u001b[0m\u001b[0mkeys\u001b[0m\u001b[0;34m(\u001b[0m\u001b[0;34m)\u001b[0m\u001b[0;34m)\u001b[0m \u001b[0;34m==\u001b[0m \u001b[0;34m{\u001b[0m\u001b[0;34m'model'\u001b[0m\u001b[0;34m,\u001b[0m \u001b[0;34m'opt'\u001b[0m\u001b[0;34m}\u001b[0m\u001b[0;34m:\u001b[0m\u001b[0;34m\u001b[0m\u001b[0;34m\u001b[0m\u001b[0m\n\u001b[0;32m--> 240\u001b[0;31m             \u001b[0mget_model\u001b[0m\u001b[0;34m(\u001b[0m\u001b[0mself\u001b[0m\u001b[0;34m.\u001b[0m\u001b[0mmodel\u001b[0m\u001b[0;34m)\u001b[0m\u001b[0;34m.\u001b[0m\u001b[0mload_state_dict\u001b[0m\u001b[0;34m(\u001b[0m\u001b[0mstate\u001b[0m\u001b[0;34m[\u001b[0m\u001b[0;34m'model'\u001b[0m\u001b[0;34m]\u001b[0m\u001b[0;34m,\u001b[0m \u001b[0mstrict\u001b[0m\u001b[0;34m=\u001b[0m\u001b[0mstrict\u001b[0m\u001b[0;34m)\u001b[0m\u001b[0;34m\u001b[0m\u001b[0;34m\u001b[0m\u001b[0m\n\u001b[0m\u001b[1;32m    241\u001b[0m             \u001b[0;32mif\u001b[0m \u001b[0mifnone\u001b[0m\u001b[0;34m(\u001b[0m\u001b[0mwith_opt\u001b[0m\u001b[0;34m,\u001b[0m\u001b[0;32mTrue\u001b[0m\u001b[0;34m)\u001b[0m\u001b[0;34m:\u001b[0m\u001b[0;34m\u001b[0m\u001b[0;34m\u001b[0m\u001b[0m\n\u001b[1;32m    242\u001b[0m                 \u001b[0;32mif\u001b[0m \u001b[0;32mnot\u001b[0m \u001b[0mhasattr\u001b[0m\u001b[0;34m(\u001b[0m\u001b[0mself\u001b[0m\u001b[0;34m,\u001b[0m \u001b[0;34m'opt'\u001b[0m\u001b[0;34m)\u001b[0m\u001b[0;34m:\u001b[0m \u001b[0mopt\u001b[0m \u001b[0;34m=\u001b[0m \u001b[0mself\u001b[0m\u001b[0;34m.\u001b[0m\u001b[0mcreate_opt\u001b[0m\u001b[0;34m(\u001b[0m\u001b[0mdefaults\u001b[0m\u001b[0;34m.\u001b[0m\u001b[0mlr\u001b[0m\u001b[0;34m,\u001b[0m \u001b[0mself\u001b[0m\u001b[0;34m.\u001b[0m\u001b[0mwd\u001b[0m\u001b[0;34m)\u001b[0m\u001b[0;34m\u001b[0m\u001b[0;34m\u001b[0m\u001b[0m\n",
      "\u001b[0;32m/opt/conda/envs/fastai/lib/python3.6/site-packages/torch/nn/modules/module.py\u001b[0m in \u001b[0;36mload_state_dict\u001b[0;34m(self, state_dict, strict)\u001b[0m\n\u001b[1;32m    767\u001b[0m         \u001b[0;32mif\u001b[0m \u001b[0mlen\u001b[0m\u001b[0;34m(\u001b[0m\u001b[0merror_msgs\u001b[0m\u001b[0;34m)\u001b[0m \u001b[0;34m>\u001b[0m \u001b[0;36m0\u001b[0m\u001b[0;34m:\u001b[0m\u001b[0;34m\u001b[0m\u001b[0;34m\u001b[0m\u001b[0m\n\u001b[1;32m    768\u001b[0m             raise RuntimeError('Error(s) in loading state_dict for {}:\\n\\t{}'.format(\n\u001b[0;32m--> 769\u001b[0;31m                                self.__class__.__name__, \"\\n\\t\".join(error_msgs)))\n\u001b[0m\u001b[1;32m    770\u001b[0m \u001b[0;34m\u001b[0m\u001b[0m\n\u001b[1;32m    771\u001b[0m     \u001b[0;32mdef\u001b[0m \u001b[0m_named_members\u001b[0m\u001b[0;34m(\u001b[0m\u001b[0mself\u001b[0m\u001b[0;34m,\u001b[0m \u001b[0mget_members_fn\u001b[0m\u001b[0;34m,\u001b[0m \u001b[0mprefix\u001b[0m\u001b[0;34m=\u001b[0m\u001b[0;34m''\u001b[0m\u001b[0;34m,\u001b[0m \u001b[0mrecurse\u001b[0m\u001b[0;34m=\u001b[0m\u001b[0;32mTrue\u001b[0m\u001b[0;34m)\u001b[0m\u001b[0;34m:\u001b[0m\u001b[0;34m\u001b[0m\u001b[0;34m\u001b[0m\u001b[0m\n",
      "\u001b[0;31mRuntimeError\u001b[0m: Error(s) in loading state_dict for SequentialRNN:\n\tMissing key(s) in state_dict: \"1.layers.0.weight\", \"1.layers.0.bias\", \"1.layers.0.running_mean\", \"1.layers.0.running_var\", \"1.layers.2.weight\", \"1.layers.2.bias\", \"1.layers.4.weight\", \"1.layers.4.bias\", \"1.layers.4.running_mean\", \"1.layers.4.running_var\", \"1.layers.6.weight\", \"1.layers.6.bias\". \n\tUnexpected key(s) in state_dict: \"1.decoder.weight\", \"1.decoder.bias\". "
     ]
    }
   ],
   "source": [
    "learn.load('fine_tuned');"
   ]
  },
  {
   "cell_type": "code",
   "execution_count": 10,
   "metadata": {},
   "outputs": [
    {
     "name": "stdout",
     "output_type": "stream",
     "text": [
      "Thats dumb and not at all . xxup lol . xxmaj it 's just true , if the person has been xxup accused of being a xxmaj jew , then the case is just that . xxmaj you should be ashamed of yourself ! xxbos i\n",
      "Thats dumb and not at all . xxmaj no more xxup than xxup you xxup like xxmaj your xxup bloody xxup school xxup sucks , xxup you xxup suck xxup bastard . xxbos xxup hello xxup my xxup name xxup is xxup the xxup name xxup\n"
     ]
    }
   ],
   "source": [
    "TEXT = \"Thats dumb and not at all\"\n",
    "N_WORDS = 40\n",
    "N_SENTENCES = 2\n",
    "\n",
    "print(\"\\n\".join(learn.predict(TEXT, N_WORDS, temperature=0.75) for _ in range(N_SENTENCES)))"
   ]
  },
  {
   "cell_type": "code",
   "execution_count": 12,
   "metadata": {},
   "outputs": [
    {
     "name": "stdout",
     "output_type": "stream",
     "text": [
      "What a great point ! ! ! xxmaj of course , all the information is correct , the page is about the person and you are n't the only one that is taken seriously . xxmaj that 's it . xxmaj the article should\n",
      "What a great point ! \" xxbos xxmaj the xxmaj love xxmaj of xxmaj the xxmaj love ? \n",
      "\n",
      " xxmaj we were the only ones who thought the xxmaj love xxmaj song band was the best and the best side that xxmaj crazy xxmaj\n"
     ]
    }
   ],
   "source": [
    "TEXT = \"What a great point\"\n",
    "N_WORDS = 40\n",
    "N_SENTENCES = 2\n",
    "\n",
    "print(\"\\n\".join(learn.predict(TEXT, N_WORDS, temperature=0.75) for _ in range(N_SENTENCES)))"
   ]
  },
  {
   "cell_type": "markdown",
   "metadata": {},
   "source": [
    "error I got after running the whole thing on to_fp16()\n",
    "\n",
    "    ---------------------------------------------------------------------------\n",
    "    RuntimeError                              Traceback (most recent call last)\n",
    "    <ipython-input-56-135dd315cd3b> in <module>\n",
    "    ----> 1 print(\"\\n\".join(learn.predict(TEXT, N_WORDS, temperature=0.75) for _ in range(N_SENTENCES)))\n",
    "\n",
    "    <ipython-input-56-135dd315cd3b> in <genexpr>(.0)\n",
    "    ----> 1 print(\"\\n\".join(learn.predict(TEXT, N_WORDS, temperature=0.75) for _ in range(N_SENTENCES)))\n",
    "\n",
    "    /opt/conda/envs/fastai/lib/python3.6/site-packages/fastai/text/learner.py in predict(self, text, n_words, no_unk, temperature, min_p)\n",
    "        100             if min_p is not None: res[res < min_p] = 0.\n",
    "        101             if temperature != 1.: res.pow_(1 / temperature)\n",
    "    --> 102             idx = torch.multinomial(res, 1).item()\n",
    "        103             text += f' {self.data.vocab.itos[idx]}'\n",
    "        104         return text\n",
    "\n",
    "    RuntimeError: invalid argument 2: invalid multinomial distribution (encountering probability entry < 0) at /opt/conda/conda-bld/pytorch_1544174967633/work/aten/src/TH/generic/THTensorRandom.cpp:298"
   ]
  },
  {
   "cell_type": "markdown",
   "metadata": {},
   "source": [
    "We have to save the model but also it's encoder, the part that's responsible for creating and updating the hidden state. For the next part, we don't care about the part that tries to guess the next word."
   ]
  },
  {
   "cell_type": "code",
   "execution_count": 11,
   "metadata": {},
   "outputs": [],
   "source": [
    "learn.save_encoder('toxic_lm_finetuned_enc')"
   ]
  },
  {
   "cell_type": "markdown",
   "metadata": {},
   "source": [
    "## Classifier"
   ]
  },
  {
   "cell_type": "markdown",
   "metadata": {},
   "source": [
    "Now, we'll create a new data object that only grabs the labelled data and keeps those labels. Again, this line takes a bit of time."
   ]
  },
  {
   "cell_type": "code",
   "execution_count": 50,
   "metadata": {},
   "outputs": [],
   "source": [
    "path = Path('/data/toxic')"
   ]
  },
  {
   "cell_type": "code",
   "execution_count": 51,
   "metadata": {},
   "outputs": [],
   "source": [
    "data_clas = (TextList.from_folder(path, vocab=data_lm.vocab)\n",
    "             #grab all the text files in path\n",
    "             .split_by_folder(valid='test')\n",
    "             #split by train and valid folder (that only keeps 'train' and 'test' so no need to filter)\n",
    "             .label_from_folder(classes=['neg', 'pos'])\n",
    "             #label them all with their folders\n",
    "             .databunch(bs=bs))\n",
    "\n",
    "data_clas.save('toxic_mc')"
   ]
  },
  {
   "cell_type": "code",
   "execution_count": 52,
   "metadata": {},
   "outputs": [],
   "source": [
    "bs = 48"
   ]
  },
  {
   "cell_type": "code",
   "execution_count": 53,
   "metadata": {},
   "outputs": [],
   "source": [
    "data_clas = TextClasDataBunch.load(path, 'toxic_mc', bs=bs)"
   ]
  },
  {
   "cell_type": "code",
   "execution_count": 54,
   "metadata": {},
   "outputs": [
    {
     "data": {
      "text/html": [
       "<table>  <col width='90%'>  <col width='10%'>  <tr>\n",
       "    <th>text</th>\n",
       "    <th>target</th>\n",
       "  </tr>\n",
       "  <tr>\n",
       "    <th>xxbos xxmaj match 1 : xxmaj tag xxmaj team xxmaj table xxmaj match xxmaj bubba xxmaj ray and xxmaj spike xxmaj dudley vs xxmaj eddie xxmaj guerrero and xxmaj chris xxmaj benoit xxmaj bubba xxmaj ray and xxmaj spike xxmaj dudley started things off with a xxmaj tag xxmaj team xxmaj table xxmaj match against xxmaj eddie xxmaj guerrero and xxmaj chris xxmaj benoit . xxmaj according to the rules</th>\n",
       "    <th>pos</th>\n",
       "  </tr>\n",
       "  <tr>\n",
       "    <th>xxbos xxmaj heavy - handed xxunk . xxmaj writers using characters as xxunk to speak for themselves . xxmaj predictable , plodding plot points ( say that five times fast ) . a child 's imitation of xxmaj britney xxmaj spears . xxmaj this film has all the earmarks of a xxmaj lifetime xxmaj special reject . \\n\\n i honestly believe that xxmaj jesus xxmaj xxunk and xxmaj julia xxmaj</th>\n",
       "    <th>neg</th>\n",
       "  </tr>\n",
       "  <tr>\n",
       "    <th>xxbos xxmaj god ! xxmaj zorro has been the the subject of about as many movies as xxmaj tarzan , and probably had about as many actors in the title role . \\n\\n xxmaj this xxmaj serial is one of my own personal favourites , and as previously stated , it is one of the xxmaj top 5 xxmaj sound xxmaj serials . xxmaj oddly enough , this is one</th>\n",
       "    <th>pos</th>\n",
       "  </tr>\n",
       "  <tr>\n",
       "    <th>xxbos xxmaj first off , let me say that i am a great believer in xxmaj xxunk stuff . i see it as a way to continue a good show long after it has been cancelled . xxmaj star xxmaj trek xxmaj xxunk and xxmaj star xxmaj wars xxmaj revelations are examples of decent efforts . xxmaj so i have a soft - spot for xxunk stuff that means i</th>\n",
       "    <th>neg</th>\n",
       "  </tr>\n",
       "  <tr>\n",
       "    <th>xxbos xxrep 5 * xxup warning , xxup may xxup contain xxup spoilers xxup which xxup will xxup be xxup more xxup entertaining xxup than xxup this xxup tripe . xxrep 4 * \\n\\n xxmaj heres some good advise to anyone living in the xxup u.k. xxmaj whenever xxmaj channel 5 has an old 80 's comedy on late at night , read a book instead . i am currently</th>\n",
       "    <th>neg</th>\n",
       "  </tr>\n",
       "</table>\n"
      ],
      "text/plain": [
       "<IPython.core.display.HTML object>"
      ]
     },
     "metadata": {},
     "output_type": "display_data"
    }
   ],
   "source": [
    "data_clas.show_batch()"
   ]
  },
  {
   "cell_type": "markdown",
   "metadata": {},
   "source": [
    "We can then create a model to classify those reviews and load the encoder we saved before."
   ]
  },
  {
   "cell_type": "code",
   "execution_count": 55,
   "metadata": {},
   "outputs": [],
   "source": [
    "learn = text_classifier_learner(data_clas, drop_mult=0.5)\n",
    "learn.load_encoder('fine_tuned_test_enc')\n",
    "learn.freeze()"
   ]
  },
  {
   "cell_type": "code",
   "execution_count": 56,
   "metadata": {},
   "outputs": [
    {
     "name": "stdout",
     "output_type": "stream",
     "text": [
      "LR Finder is complete, type {learner_name}.recorder.plot() to see the graph.\n"
     ]
    }
   ],
   "source": [
    "learn.lr_find()"
   ]
  },
  {
   "cell_type": "code",
   "execution_count": 57,
   "metadata": {},
   "outputs": [
    {
     "data": {
      "image/png": "[encoded data removed]",
      "text/plain": [
       "<Figure size 432x288 with 1 Axes>"
      ]
     },
     "metadata": {
      "needs_background": "light"
     },
     "output_type": "display_data"
    }
   ],
   "source": [
    "learn.recorder.plot()"
   ]
  },
  {
   "cell_type": "code",
   "execution_count": 58,
   "metadata": {},
   "outputs": [
    {
     "data": {
      "text/html": [
       "Total time: 06:53 <p><table style='width:300px; margin-bottom:10px'>\n",
       "  <tr>\n",
       "    <th>epoch</th>\n",
       "    <th>train_loss</th>\n",
       "    <th>valid_loss</th>\n",
       "    <th>accuracy</th>\n",
       "  </tr>\n",
       "  <tr>\n",
       "    <th>1</th>\n",
       "    <th>0.409948</th>\n",
       "    <th>0.245562</th>\n",
       "    <th>0.904160</th>\n",
       "  </tr>\n",
       "</table>\n"
      ],
      "text/plain": [
       "<IPython.core.display.HTML object>"
      ]
     },
     "metadata": {},
     "output_type": "display_data"
    }
   ],
   "source": [
    "learn.fit_one_cycle(1, 2e-2, moms=(0.8,0.7))"
   ]
  },
  {
   "cell_type": "code",
   "execution_count": 59,
   "metadata": {},
   "outputs": [],
   "source": [
    "learn.save('fine_tuned_test_cls_1')"
   ]
  },
  {
   "cell_type": "code",
   "execution_count": null,
   "metadata": {},
   "outputs": [],
   "source": [
    "learn.load('fine_tuned_test_cls_1');"
   ]
  },
  {
   "cell_type": "code",
   "execution_count": 60,
   "metadata": {},
   "outputs": [
    {
     "data": {
      "text/html": [
       "Total time: 08:41 <p><table style='width:300px; margin-bottom:10px'>\n",
       "  <tr>\n",
       "    <th>epoch</th>\n",
       "    <th>train_loss</th>\n",
       "    <th>valid_loss</th>\n",
       "    <th>accuracy</th>\n",
       "  </tr>\n",
       "  <tr>\n",
       "    <th>1</th>\n",
       "    <th>0.308999</th>\n",
       "    <th>0.202802</th>\n",
       "    <th>0.922640</th>\n",
       "  </tr>\n",
       "</table>\n"
      ],
      "text/plain": [
       "<IPython.core.display.HTML object>"
      ]
     },
     "metadata": {},
     "output_type": "display_data"
    }
   ],
   "source": [
    "learn.freeze_to(-2)\n",
    "learn.fit_one_cycle(1, slice(1e-2/(2.6**4),1e-2), moms=(0.8,0.7))"
   ]
  },
  {
   "cell_type": "code",
   "execution_count": 61,
   "metadata": {},
   "outputs": [],
   "source": [
    "learn.save('fine_tuned_test_cls_2')"
   ]
  },
  {
   "cell_type": "code",
   "execution_count": 62,
   "metadata": {},
   "outputs": [],
   "source": [
    "learn.load('fine_tuned_test_cls_2');"
   ]
  },
  {
   "cell_type": "code",
   "execution_count": 63,
   "metadata": {},
   "outputs": [
    {
     "data": {
      "text/html": [
       "\n",
       "    <div>\n",
       "        <style>\n",
       "            /* Turns off some styling */\n",
       "            progress {\n",
       "                /* gets rid of default border in Firefox and Opera. */\n",
       "                border: none;\n",
       "                /* Needs to be in here for Safari polyfill so background images work as expected. */\n",
       "                background-size: auto;\n",
       "            }\n",
       "            .progress-bar-interrupted, .progress-bar-interrupted::-webkit-progress-bar {\n",
       "                background: #F44336;\n",
       "            }\n",
       "        </style>\n",
       "      <progress value='0' class='' max='1', style='width:300px; height:20px; vertical-align: middle;'></progress>\n",
       "      0.00% [0/1 00:00<00:00]\n",
       "    </div>\n",
       "    \n",
       "<table style='width:300px; margin-bottom:10px'>\n",
       "  <tr>\n",
       "    <th>epoch</th>\n",
       "    <th>train_loss</th>\n",
       "    <th>valid_loss</th>\n",
       "    <th>accuracy</th>\n",
       "  </tr>\n",
       "</table>\n",
       "\n",
       "\n",
       "    <div>\n",
       "        <style>\n",
       "            /* Turns off some styling */\n",
       "            progress {\n",
       "                /* gets rid of default border in Firefox and Opera. */\n",
       "                border: none;\n",
       "                /* Needs to be in here for Safari polyfill so background images work as expected. */\n",
       "                background-size: auto;\n",
       "            }\n",
       "            .progress-bar-interrupted, .progress-bar-interrupted::-webkit-progress-bar {\n",
       "                background: #F44336;\n",
       "            }\n",
       "        </style>\n",
       "      <progress value='0' class='progress-bar-interrupted' max='1041', style='width:300px; height:20px; vertical-align: middle;'></progress>\n",
       "      Interrupted\n",
       "    </div>\n",
       "    "
      ],
      "text/plain": [
       "<IPython.core.display.HTML object>"
      ]
     },
     "metadata": {},
     "output_type": "display_data"
    },
    {
     "ename": "RuntimeError",
     "evalue": "CUDA out of memory. Tried to allocate 51.00 MiB (GPU 0; 5.93 GiB total capacity; 4.73 GiB already allocated; 30.12 MiB free; 345.27 MiB cached)",
     "output_type": "error",
     "traceback": [
      "\u001b[0;31m---------------------------------------------------------------------------\u001b[0m",
      "\u001b[0;31mRuntimeError\u001b[0m                              Traceback (most recent call last)",
      "\u001b[0;32m<ipython-input-63-644a31004af3>\u001b[0m in \u001b[0;36m<module>\u001b[0;34m\u001b[0m\n\u001b[1;32m      1\u001b[0m \u001b[0mlearn\u001b[0m\u001b[0;34m.\u001b[0m\u001b[0mfreeze_to\u001b[0m\u001b[0;34m(\u001b[0m\u001b[0;34m-\u001b[0m\u001b[0;36m3\u001b[0m\u001b[0;34m)\u001b[0m\u001b[0;34m\u001b[0m\u001b[0;34m\u001b[0m\u001b[0m\n\u001b[0;32m----> 2\u001b[0;31m \u001b[0mlearn\u001b[0m\u001b[0;34m.\u001b[0m\u001b[0mfit_one_cycle\u001b[0m\u001b[0;34m(\u001b[0m\u001b[0;36m1\u001b[0m\u001b[0;34m,\u001b[0m \u001b[0mslice\u001b[0m\u001b[0;34m(\u001b[0m\u001b[0;36m5e-3\u001b[0m\u001b[0;34m/\u001b[0m\u001b[0;34m(\u001b[0m\u001b[0;36m2.6\u001b[0m\u001b[0;34m**\u001b[0m\u001b[0;36m4\u001b[0m\u001b[0;34m)\u001b[0m\u001b[0;34m,\u001b[0m\u001b[0;36m5e-3\u001b[0m\u001b[0;34m)\u001b[0m\u001b[0;34m,\u001b[0m \u001b[0mmoms\u001b[0m\u001b[0;34m=\u001b[0m\u001b[0;34m(\u001b[0m\u001b[0;36m0.8\u001b[0m\u001b[0;34m,\u001b[0m\u001b[0;36m0.7\u001b[0m\u001b[0;34m)\u001b[0m\u001b[0;34m)\u001b[0m\u001b[0;34m\u001b[0m\u001b[0;34m\u001b[0m\u001b[0m\n\u001b[0m",
      "\u001b[0;32m/opt/conda/envs/fastai/lib/python3.6/site-packages/fastai/train.py\u001b[0m in \u001b[0;36mfit_one_cycle\u001b[0;34m(learn, cyc_len, max_lr, moms, div_factor, pct_start, wd, callbacks, **kwargs)\u001b[0m\n\u001b[1;32m     20\u001b[0m     callbacks.append(OneCycleScheduler(learn, max_lr, moms=moms, div_factor=div_factor,\n\u001b[1;32m     21\u001b[0m                                         pct_start=pct_start, **kwargs))\n\u001b[0;32m---> 22\u001b[0;31m     \u001b[0mlearn\u001b[0m\u001b[0;34m.\u001b[0m\u001b[0mfit\u001b[0m\u001b[0;34m(\u001b[0m\u001b[0mcyc_len\u001b[0m\u001b[0;34m,\u001b[0m \u001b[0mmax_lr\u001b[0m\u001b[0;34m,\u001b[0m \u001b[0mwd\u001b[0m\u001b[0;34m=\u001b[0m\u001b[0mwd\u001b[0m\u001b[0;34m,\u001b[0m \u001b[0mcallbacks\u001b[0m\u001b[0;34m=\u001b[0m\u001b[0mcallbacks\u001b[0m\u001b[0;34m)\u001b[0m\u001b[0;34m\u001b[0m\u001b[0;34m\u001b[0m\u001b[0m\n\u001b[0m\u001b[1;32m     23\u001b[0m \u001b[0;34m\u001b[0m\u001b[0m\n\u001b[1;32m     24\u001b[0m \u001b[0;32mdef\u001b[0m \u001b[0mlr_find\u001b[0m\u001b[0;34m(\u001b[0m\u001b[0mlearn\u001b[0m\u001b[0;34m:\u001b[0m\u001b[0mLearner\u001b[0m\u001b[0;34m,\u001b[0m \u001b[0mstart_lr\u001b[0m\u001b[0;34m:\u001b[0m\u001b[0mFloats\u001b[0m\u001b[0;34m=\u001b[0m\u001b[0;36m1e-7\u001b[0m\u001b[0;34m,\u001b[0m \u001b[0mend_lr\u001b[0m\u001b[0;34m:\u001b[0m\u001b[0mFloats\u001b[0m\u001b[0;34m=\u001b[0m\u001b[0;36m10\u001b[0m\u001b[0;34m,\u001b[0m \u001b[0mnum_it\u001b[0m\u001b[0;34m:\u001b[0m\u001b[0mint\u001b[0m\u001b[0;34m=\u001b[0m\u001b[0;36m100\u001b[0m\u001b[0;34m,\u001b[0m \u001b[0mstop_div\u001b[0m\u001b[0;34m:\u001b[0m\u001b[0mbool\u001b[0m\u001b[0;34m=\u001b[0m\u001b[0;32mTrue\u001b[0m\u001b[0;34m,\u001b[0m \u001b[0;34m**\u001b[0m\u001b[0mkwargs\u001b[0m\u001b[0;34m:\u001b[0m\u001b[0mAny\u001b[0m\u001b[0;34m)\u001b[0m\u001b[0;34m:\u001b[0m\u001b[0;34m\u001b[0m\u001b[0;34m\u001b[0m\u001b[0m\n",
      "\u001b[0;32m/opt/conda/envs/fastai/lib/python3.6/site-packages/fastai/basic_train.py\u001b[0m in \u001b[0;36mfit\u001b[0;34m(self, epochs, lr, wd, callbacks)\u001b[0m\n\u001b[1;32m    176\u001b[0m         \u001b[0mcallbacks\u001b[0m \u001b[0;34m=\u001b[0m \u001b[0;34m[\u001b[0m\u001b[0mcb\u001b[0m\u001b[0;34m(\u001b[0m\u001b[0mself\u001b[0m\u001b[0;34m)\u001b[0m \u001b[0;32mfor\u001b[0m \u001b[0mcb\u001b[0m \u001b[0;32min\u001b[0m \u001b[0mself\u001b[0m\u001b[0;34m.\u001b[0m\u001b[0mcallback_fns\u001b[0m\u001b[0;34m]\u001b[0m \u001b[0;34m+\u001b[0m \u001b[0mlistify\u001b[0m\u001b[0;34m(\u001b[0m\u001b[0mcallbacks\u001b[0m\u001b[0;34m)\u001b[0m\u001b[0;34m\u001b[0m\u001b[0;34m\u001b[0m\u001b[0m\n\u001b[1;32m    177\u001b[0m         fit(epochs, self.model, self.loss_func, opt=self.opt, data=self.data, metrics=self.metrics,\n\u001b[0;32m--> 178\u001b[0;31m             callbacks=self.callbacks+callbacks)\n\u001b[0m\u001b[1;32m    179\u001b[0m \u001b[0;34m\u001b[0m\u001b[0m\n\u001b[1;32m    180\u001b[0m     \u001b[0;32mdef\u001b[0m \u001b[0mcreate_opt\u001b[0m\u001b[0;34m(\u001b[0m\u001b[0mself\u001b[0m\u001b[0;34m,\u001b[0m \u001b[0mlr\u001b[0m\u001b[0;34m:\u001b[0m\u001b[0mFloats\u001b[0m\u001b[0;34m,\u001b[0m \u001b[0mwd\u001b[0m\u001b[0;34m:\u001b[0m\u001b[0mFloats\u001b[0m\u001b[0;34m=\u001b[0m\u001b[0;36m0.\u001b[0m\u001b[0;34m)\u001b[0m\u001b[0;34m->\u001b[0m\u001b[0;32mNone\u001b[0m\u001b[0;34m:\u001b[0m\u001b[0;34m\u001b[0m\u001b[0;34m\u001b[0m\u001b[0m\n",
      "\u001b[0;32m/opt/conda/envs/fastai/lib/python3.6/site-packages/fastai/utils/mem.py\u001b[0m in \u001b[0;36mwrapper\u001b[0;34m(*args, **kwargs)\u001b[0m\n\u001b[1;32m     87\u001b[0m             \u001b[0;32mif\u001b[0m \u001b[0;34m\"CUDA out of memory\"\u001b[0m \u001b[0;32min\u001b[0m \u001b[0mstr\u001b[0m\u001b[0;34m(\u001b[0m\u001b[0me\u001b[0m\u001b[0;34m)\u001b[0m \u001b[0;32mor\u001b[0m \u001b[0mtb_clear_frames\u001b[0m\u001b[0;34m==\u001b[0m\u001b[0;34m\"1\"\u001b[0m\u001b[0;34m:\u001b[0m\u001b[0;34m\u001b[0m\u001b[0;34m\u001b[0m\u001b[0m\n\u001b[1;32m     88\u001b[0m                 \u001b[0mtype\u001b[0m\u001b[0;34m,\u001b[0m \u001b[0mval\u001b[0m\u001b[0;34m,\u001b[0m \u001b[0mtb\u001b[0m \u001b[0;34m=\u001b[0m \u001b[0mget_ref_free_exc_info\u001b[0m\u001b[0;34m(\u001b[0m\u001b[0;34m)\u001b[0m \u001b[0;31m# must!\u001b[0m\u001b[0;34m\u001b[0m\u001b[0;34m\u001b[0m\u001b[0m\n\u001b[0;32m---> 89\u001b[0;31m                 \u001b[0;32mraise\u001b[0m \u001b[0mtype\u001b[0m\u001b[0;34m(\u001b[0m\u001b[0mval\u001b[0m\u001b[0;34m)\u001b[0m\u001b[0;34m.\u001b[0m\u001b[0mwith_traceback\u001b[0m\u001b[0;34m(\u001b[0m\u001b[0mtb\u001b[0m\u001b[0;34m)\u001b[0m \u001b[0;32mfrom\u001b[0m \u001b[0;32mNone\u001b[0m\u001b[0;34m\u001b[0m\u001b[0;34m\u001b[0m\u001b[0m\n\u001b[0m\u001b[1;32m     90\u001b[0m             \u001b[0;32melse\u001b[0m\u001b[0;34m:\u001b[0m \u001b[0;32mraise\u001b[0m \u001b[0;31m# re-raises the exact last exception\u001b[0m\u001b[0;34m\u001b[0m\u001b[0;34m\u001b[0m\u001b[0m\n\u001b[1;32m     91\u001b[0m     \u001b[0;32mreturn\u001b[0m \u001b[0mwrapper\u001b[0m\u001b[0;34m\u001b[0m\u001b[0;34m\u001b[0m\u001b[0m\n",
      "\u001b[0;32m/opt/conda/envs/fastai/lib/python3.6/site-packages/fastai/utils/mem.py\u001b[0m in \u001b[0;36mwrapper\u001b[0;34m(*args, **kwargs)\u001b[0m\n\u001b[1;32m     83\u001b[0m \u001b[0;34m\u001b[0m\u001b[0m\n\u001b[1;32m     84\u001b[0m         \u001b[0;32mtry\u001b[0m\u001b[0;34m:\u001b[0m\u001b[0;34m\u001b[0m\u001b[0;34m\u001b[0m\u001b[0m\n\u001b[0;32m---> 85\u001b[0;31m             \u001b[0;32mreturn\u001b[0m \u001b[0mfunc\u001b[0m\u001b[0;34m(\u001b[0m\u001b[0;34m*\u001b[0m\u001b[0margs\u001b[0m\u001b[0;34m,\u001b[0m \u001b[0;34m**\u001b[0m\u001b[0mkwargs\u001b[0m\u001b[0;34m)\u001b[0m\u001b[0;34m\u001b[0m\u001b[0;34m\u001b[0m\u001b[0m\n\u001b[0m\u001b[1;32m     86\u001b[0m         \u001b[0;32mexcept\u001b[0m \u001b[0mException\u001b[0m \u001b[0;32mas\u001b[0m \u001b[0me\u001b[0m\u001b[0;34m:\u001b[0m\u001b[0;34m\u001b[0m\u001b[0;34m\u001b[0m\u001b[0m\n\u001b[1;32m     87\u001b[0m             \u001b[0;32mif\u001b[0m \u001b[0;34m\"CUDA out of memory\"\u001b[0m \u001b[0;32min\u001b[0m \u001b[0mstr\u001b[0m\u001b[0;34m(\u001b[0m\u001b[0me\u001b[0m\u001b[0;34m)\u001b[0m \u001b[0;32mor\u001b[0m \u001b[0mtb_clear_frames\u001b[0m\u001b[0;34m==\u001b[0m\u001b[0;34m\"1\"\u001b[0m\u001b[0;34m:\u001b[0m\u001b[0;34m\u001b[0m\u001b[0;34m\u001b[0m\u001b[0m\n",
      "\u001b[0;32m/opt/conda/envs/fastai/lib/python3.6/site-packages/fastai/basic_train.py\u001b[0m in \u001b[0;36mfit\u001b[0;34m(***failed resolving arguments***)\u001b[0m\n\u001b[1;32m     98\u001b[0m     \u001b[0;32mexcept\u001b[0m \u001b[0mException\u001b[0m \u001b[0;32mas\u001b[0m \u001b[0me\u001b[0m\u001b[0;34m:\u001b[0m\u001b[0;34m\u001b[0m\u001b[0;34m\u001b[0m\u001b[0m\n\u001b[1;32m     99\u001b[0m         \u001b[0mexception\u001b[0m \u001b[0;34m=\u001b[0m \u001b[0me\u001b[0m\u001b[0;34m\u001b[0m\u001b[0;34m\u001b[0m\u001b[0m\n\u001b[0;32m--> 100\u001b[0;31m         \u001b[0;32mraise\u001b[0m \u001b[0me\u001b[0m\u001b[0;34m\u001b[0m\u001b[0;34m\u001b[0m\u001b[0m\n\u001b[0m\u001b[1;32m    101\u001b[0m     \u001b[0;32mfinally\u001b[0m\u001b[0;34m:\u001b[0m \u001b[0mcb_handler\u001b[0m\u001b[0;34m.\u001b[0m\u001b[0mon_train_end\u001b[0m\u001b[0;34m(\u001b[0m\u001b[0mexception\u001b[0m\u001b[0;34m)\u001b[0m\u001b[0;34m\u001b[0m\u001b[0;34m\u001b[0m\u001b[0m\n\u001b[1;32m    102\u001b[0m \u001b[0;34m\u001b[0m\u001b[0m\n",
      "\u001b[0;32m/opt/conda/envs/fastai/lib/python3.6/site-packages/fastai/basic_train.py\u001b[0m in \u001b[0;36mfit\u001b[0;34m(***failed resolving arguments***)\u001b[0m\n\u001b[1;32m     88\u001b[0m             \u001b[0;32mfor\u001b[0m \u001b[0mxb\u001b[0m\u001b[0;34m,\u001b[0m\u001b[0myb\u001b[0m \u001b[0;32min\u001b[0m \u001b[0mprogress_bar\u001b[0m\u001b[0;34m(\u001b[0m\u001b[0mdata\u001b[0m\u001b[0;34m.\u001b[0m\u001b[0mtrain_dl\u001b[0m\u001b[0;34m,\u001b[0m \u001b[0mparent\u001b[0m\u001b[0;34m=\u001b[0m\u001b[0mpbar\u001b[0m\u001b[0;34m)\u001b[0m\u001b[0;34m:\u001b[0m\u001b[0;34m\u001b[0m\u001b[0;34m\u001b[0m\u001b[0m\n\u001b[1;32m     89\u001b[0m                 \u001b[0mxb\u001b[0m\u001b[0;34m,\u001b[0m \u001b[0myb\u001b[0m \u001b[0;34m=\u001b[0m \u001b[0mcb_handler\u001b[0m\u001b[0;34m.\u001b[0m\u001b[0mon_batch_begin\u001b[0m\u001b[0;34m(\u001b[0m\u001b[0mxb\u001b[0m\u001b[0;34m,\u001b[0m \u001b[0myb\u001b[0m\u001b[0;34m)\u001b[0m\u001b[0;34m\u001b[0m\u001b[0;34m\u001b[0m\u001b[0m\n\u001b[0;32m---> 90\u001b[0;31m                 \u001b[0mloss\u001b[0m \u001b[0;34m=\u001b[0m \u001b[0mloss_batch\u001b[0m\u001b[0;34m(\u001b[0m\u001b[0mmodel\u001b[0m\u001b[0;34m,\u001b[0m \u001b[0mxb\u001b[0m\u001b[0;34m,\u001b[0m \u001b[0myb\u001b[0m\u001b[0;34m,\u001b[0m \u001b[0mloss_func\u001b[0m\u001b[0;34m,\u001b[0m \u001b[0mopt\u001b[0m\u001b[0;34m,\u001b[0m \u001b[0mcb_handler\u001b[0m\u001b[0;34m)\u001b[0m\u001b[0;34m\u001b[0m\u001b[0;34m\u001b[0m\u001b[0m\n\u001b[0m\u001b[1;32m     91\u001b[0m                 \u001b[0;32mif\u001b[0m \u001b[0mcb_handler\u001b[0m\u001b[0;34m.\u001b[0m\u001b[0mon_batch_end\u001b[0m\u001b[0;34m(\u001b[0m\u001b[0mloss\u001b[0m\u001b[0;34m)\u001b[0m\u001b[0;34m:\u001b[0m \u001b[0;32mbreak\u001b[0m\u001b[0;34m\u001b[0m\u001b[0;34m\u001b[0m\u001b[0m\n\u001b[1;32m     92\u001b[0m \u001b[0;34m\u001b[0m\u001b[0m\n",
      "\u001b[0;32m/opt/conda/envs/fastai/lib/python3.6/site-packages/fastai/basic_train.py\u001b[0m in \u001b[0;36mloss_batch\u001b[0;34m(***failed resolving arguments***)\u001b[0m\n\u001b[1;32m     26\u001b[0m     \u001b[0;32mif\u001b[0m \u001b[0mopt\u001b[0m \u001b[0;32mis\u001b[0m \u001b[0;32mnot\u001b[0m \u001b[0;32mNone\u001b[0m\u001b[0;34m:\u001b[0m\u001b[0;34m\u001b[0m\u001b[0;34m\u001b[0m\u001b[0m\n\u001b[1;32m     27\u001b[0m         \u001b[0mloss\u001b[0m \u001b[0;34m=\u001b[0m \u001b[0mcb_handler\u001b[0m\u001b[0;34m.\u001b[0m\u001b[0mon_backward_begin\u001b[0m\u001b[0;34m(\u001b[0m\u001b[0mloss\u001b[0m\u001b[0;34m)\u001b[0m\u001b[0;34m\u001b[0m\u001b[0;34m\u001b[0m\u001b[0m\n\u001b[0;32m---> 28\u001b[0;31m         \u001b[0mloss\u001b[0m\u001b[0;34m.\u001b[0m\u001b[0mbackward\u001b[0m\u001b[0;34m(\u001b[0m\u001b[0;34m)\u001b[0m\u001b[0;34m\u001b[0m\u001b[0;34m\u001b[0m\u001b[0m\n\u001b[0m\u001b[1;32m     29\u001b[0m         \u001b[0mcb_handler\u001b[0m\u001b[0;34m.\u001b[0m\u001b[0mon_backward_end\u001b[0m\u001b[0;34m(\u001b[0m\u001b[0;34m)\u001b[0m\u001b[0;34m\u001b[0m\u001b[0;34m\u001b[0m\u001b[0m\n\u001b[1;32m     30\u001b[0m         \u001b[0mopt\u001b[0m\u001b[0;34m.\u001b[0m\u001b[0mstep\u001b[0m\u001b[0;34m(\u001b[0m\u001b[0;34m)\u001b[0m\u001b[0;34m\u001b[0m\u001b[0;34m\u001b[0m\u001b[0m\n",
      "\u001b[0;32m/opt/conda/envs/fastai/lib/python3.6/site-packages/torch/tensor.py\u001b[0m in \u001b[0;36mbackward\u001b[0;34m(***failed resolving arguments***)\u001b[0m\n\u001b[1;32m    100\u001b[0m                 \u001b[0mproducts\u001b[0m\u001b[0;34m.\u001b[0m \u001b[0mDefaults\u001b[0m \u001b[0mto\u001b[0m\u001b[0;31m \u001b[0m\u001b[0;31m`\u001b[0m\u001b[0;31m`\u001b[0m\u001b[0;32mFalse\u001b[0m\u001b[0;31m`\u001b[0m\u001b[0;31m`\u001b[0m\u001b[0;34m.\u001b[0m\u001b[0;34m\u001b[0m\u001b[0;34m\u001b[0m\u001b[0m\n\u001b[1;32m    101\u001b[0m         \"\"\"\n\u001b[0;32m--> 102\u001b[0;31m         \u001b[0mtorch\u001b[0m\u001b[0;34m.\u001b[0m\u001b[0mautograd\u001b[0m\u001b[0;34m.\u001b[0m\u001b[0mbackward\u001b[0m\u001b[0;34m(\u001b[0m\u001b[0mself\u001b[0m\u001b[0;34m,\u001b[0m \u001b[0mgradient\u001b[0m\u001b[0;34m,\u001b[0m \u001b[0mretain_graph\u001b[0m\u001b[0;34m,\u001b[0m \u001b[0mcreate_graph\u001b[0m\u001b[0;34m)\u001b[0m\u001b[0;34m\u001b[0m\u001b[0;34m\u001b[0m\u001b[0m\n\u001b[0m\u001b[1;32m    103\u001b[0m \u001b[0;34m\u001b[0m\u001b[0m\n\u001b[1;32m    104\u001b[0m     \u001b[0;32mdef\u001b[0m \u001b[0mregister_hook\u001b[0m\u001b[0;34m(\u001b[0m\u001b[0mself\u001b[0m\u001b[0;34m,\u001b[0m \u001b[0mhook\u001b[0m\u001b[0;34m)\u001b[0m\u001b[0;34m:\u001b[0m\u001b[0;34m\u001b[0m\u001b[0;34m\u001b[0m\u001b[0m\n",
      "\u001b[0;32m/opt/conda/envs/fastai/lib/python3.6/site-packages/torch/autograd/__init__.py\u001b[0m in \u001b[0;36mbackward\u001b[0;34m(***failed resolving arguments***)\u001b[0m\n\u001b[1;32m     88\u001b[0m     Variable._execution_engine.run_backward(\n\u001b[1;32m     89\u001b[0m         \u001b[0mtensors\u001b[0m\u001b[0;34m,\u001b[0m \u001b[0mgrad_tensors\u001b[0m\u001b[0;34m,\u001b[0m \u001b[0mretain_graph\u001b[0m\u001b[0;34m,\u001b[0m \u001b[0mcreate_graph\u001b[0m\u001b[0;34m,\u001b[0m\u001b[0;34m\u001b[0m\u001b[0;34m\u001b[0m\u001b[0m\n\u001b[0;32m---> 90\u001b[0;31m         allow_unreachable=True)  # allow_unreachable flag\n\u001b[0m\u001b[1;32m     91\u001b[0m \u001b[0;34m\u001b[0m\u001b[0m\n\u001b[1;32m     92\u001b[0m \u001b[0;34m\u001b[0m\u001b[0m\n",
      "\u001b[0;31mRuntimeError\u001b[0m: CUDA out of memory. Tried to allocate 51.00 MiB (GPU 0; 5.93 GiB total capacity; 4.73 GiB already allocated; 30.12 MiB free; 345.27 MiB cached)"
     ]
    }
   ],
   "source": [
    "learn.freeze_to(-3)\n",
    "learn.fit_one_cycle(1, slice(5e-3/(2.6**4),5e-3), moms=(0.8,0.7))"
   ]
  },
  {
   "cell_type": "code",
   "execution_count": null,
   "metadata": {},
   "outputs": [],
   "source": [
    "learn.save('third')"
   ]
  },
  {
   "cell_type": "code",
   "execution_count": null,
   "metadata": {},
   "outputs": [],
   "source": [
    "learn.load('third');"
   ]
  },
  {
   "cell_type": "code",
   "execution_count": null,
   "metadata": {},
   "outputs": [
    {
     "data": {
      "text/html": [
       "Total time: 15:17 <p><table style='width:300px; margin-bottom:10px'>\n",
       "  <tr>\n",
       "    <th>epoch</th>\n",
       "    <th>train_loss</th>\n",
       "    <th>valid_loss</th>\n",
       "    <th>accuracy</th>\n",
       "  </tr>\n",
       "  <tr>\n",
       "    <th>1</th>\n",
       "    <th>0.240424</th>\n",
       "    <th>0.155204</th>\n",
       "    <th>0.943160</th>\n",
       "  </tr>\n",
       "  <tr>\n",
       "    <th>2</th>\n",
       "    <th>0.217462</th>\n",
       "    <th>0.153421</th>\n",
       "    <th>0.943960</th>\n",
       "  </tr>\n",
       "</table>\n"
      ],
      "text/plain": [
       "<IPython.core.display.HTML object>"
      ]
     },
     "metadata": {},
     "output_type": "display_data"
    }
   ],
   "source": [
    "learn.unfreeze()\n",
    "learn.fit_one_cycle(2, slice(1e-3/(2.6**4),1e-3), moms=(0.8,0.7))"
   ]
  },
  {
   "cell_type": "code",
   "execution_count": null,
   "metadata": {},
   "outputs": [
    {
     "data": {
      "text/plain": [
       "(Category pos, tensor(1), tensor([7.5928e-04, 9.9924e-01]))"
      ]
     },
     "execution_count": null,
     "metadata": {},
     "output_type": "execute_result"
    }
   ],
   "source": [
    "learn.predict(\"I really loved that movie, it was awesome!\")"
   ]
  },
  {
   "cell_type": "code",
   "execution_count": null,
   "metadata": {},
   "outputs": [],
   "source": []
  }
 ],
 "metadata": {
  "kernelspec": {
   "display_name": "Python 3",
   "language": "python",
   "name": "python3"
  },
  "language_info": {
   "codemirror_mode": {
    "name": "ipython",
    "version": 3
   },
   "file_extension": ".py",
   "mimetype": "text/x-python",
   "name": "python",
   "nbconvert_exporter": "python",
   "pygments_lexer": "ipython3",
   "version": "3.6.7"
  }
 },
 "nbformat": 4,
 "nbformat_minor": 2
}
